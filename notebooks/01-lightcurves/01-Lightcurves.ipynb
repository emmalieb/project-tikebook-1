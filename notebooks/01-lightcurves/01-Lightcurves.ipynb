{
 "cells": [
  {
   "cell_type": "markdown",
   "id": "16379295",
   "metadata": {},
   "source": [
    "# Lesson 1: Timeseries Data and Exoplanets\n"
   ]
  },
  {
   "cell_type": "markdown",
   "id": "7beaaf87",
   "metadata": {
    "jp-MarkdownHeadingCollapsed": true,
    "tags": []
   },
   "source": [
    "## Learning Goals: \n",
    "- Understand how missions like TESS and Kepler look for repeated changes in brightness to detect planets.\n",
    "- Learn to plot a light curve using three distinct methods: \n",
    "    - light curve data\n",
    "    - target pixel data\n",
    "    - cutout an FFI.\n",
    "- Start to be familiar with other common uses of timeseries data like stellar astrophysics, asteroseismology, etc.\n",
    "\n",
    "\n",
    "### Nomenclature\n",
    "\n",
    "It is often useful to compare exoplanets and stars to our own solar system. However, it very quickly gets tedious to say things like \"1.1 Earth masses\", so astronomers use some specialized vocabulary for these things.\n",
    "\n",
    "* The symbol ☉ means \"Solar\" or \"Sun\". For example, $M_☉$ would mean \"Solar Mass\". \n",
    "* The symbol ⊕ means \"Earth\". $R_⊕$, for example means \"Earth radius\".\n",
    "* AU, or astronomical unit, is the (average) distance at which the Earth orbits the sun. "
   ]
  },
  {
   "cell_type": "markdown",
   "id": "4b16f4f1",
   "metadata": {},
   "source": [
    "## How are exoplanets discovered?\n",
    "### What is a transit? \n",
    "\n",
    "<img src=\"https://upload.wikimedia.org/wikipedia/commons/8/88/Exoplanet_transit_method.gif\" width=\"500\">\n",
    "\n",
    "A transit occurs when a planet passes between a star and its observer. Transits reveal an exoplanet not because we directly see it from many light-years away, but because the planet passing in front of its star ever so slightly dims its light. This dimming can be seen in light curves – graphs showing light received over a period of time. When the exoplanet passes in front of the star, the light curve will show a dip in brightness. A light-curve is a plot of flux vs time, which is the type of plot we will be making today. \n",
    "\n",
    "More than just exoplanets, transits can be used to discover and analyze a variety of astronomical systems including binary stars, asteroseismic signals, and much more. We will explore these other applications more in Lesson 2 and beyond. Stay tuned!"
   ]
  },
  {
   "cell_type": "markdown",
   "id": "739d7f95",
   "metadata": {},
   "source": [
    "## Plotting a Light Curve\n",
    "\n",
    "We will be exploring the exoplanetary system around the star HD 21749. In 2019, TESS observations lead to the discovery of 2 exoplanets around HD 21749, one of which is Earth sized. HD 21749 is a K-type main sequence star, it has an estimated mass of 0.73 $M_☉$, a radius of 0.70 $R_☉$, and a luminosity of 0.20 $L_☉$.\n",
    "\n",
    "The inner planet, HD 21749 c, is orbiting at a distance of 0.08 AU with a period of just 7.8 days. It has a radius of 1.1 R🜨 and was the first Earth-sized planet found by TESS. The outer planet, HD 21749 b, orbits the star at a distance of 0.21 AU with a period of 35.6 days. "
   ]
  },
  {
   "cell_type": "markdown",
   "id": "fc47505e",
   "metadata": {},
   "source": [
    "### Imports\n",
    "\n",
    "The following cell holds the imported packages. These packages are necessary for running the rest of the cells in this notebook, and you can expect to use some of these packages almost everytime you do astronomical research. A description of each import is as follows:\n",
    "\n",
    "* `numpy` to handle array mathematics\n",
    "* `fits` from astropy.io for accessing FITS files\n",
    "* `Table` from astropy.table for creating tidy tables of the data\n",
    "\n",
    "* `matplotlib.pyplot` for plotting data and images\n",
    "* `Observations` from astroquery.mast for querying data and observations from the MAST archive\n",
    "* `Tesscut` from astroquery.mast for cutting out target pixels in FFI"
   ]
  },
  {
   "cell_type": "code",
   "execution_count": null,
   "id": "7414e1ae",
   "metadata": {
    "tags": []
   },
   "outputs": [],
   "source": [
    "from astropy.io import fits\n",
    "from astropy.table import Table\n",
    "\n",
    "from astroquery.mast import Observations\n",
    "from astroquery.mast import Tesscut\n",
    "\n",
    "import numpy as np\n",
    "import matplotlib.pyplot as plt\n",
    "\n",
    "%matplotlib inline"
   ]
  },
  {
   "cell_type": "markdown",
   "id": "ba0f9451",
   "metadata": {},
   "source": [
    "Don't forget to enable cloud data access!"
   ]
  },
  {
   "cell_type": "code",
   "execution_count": null,
   "id": "09ebfd2a",
   "metadata": {},
   "outputs": [],
   "source": [
    "Observations.enable_cloud_dataset()"
   ]
  },
  {
   "cell_type": "markdown",
   "id": "60c67cff",
   "metadata": {},
   "source": [
    "### Query TESS data from MAST\n",
    "\n",
    "We will be using the Observations class in the astroquery.mast subpackage from Astroquery. Visit [Lesson 0](../00-the-cloud/00-the-cloud.ipynb) if you want a refresher on querying for TESS data.\n",
    "\n",
    "Let's get started by searching for TESS time series Observations of HD 21749."
   ]
  },
  {
   "cell_type": "code",
   "execution_count": null,
   "id": "72f35a03",
   "metadata": {
    "tags": []
   },
   "outputs": [],
   "source": [
    "# Query for TESS time series Observations of our target\n",
    "TESS_table = Observations.query_criteria(objectname=\"HD 21749\"\n",
    "                                         , obs_collection=\"TESS\"\n",
    "                                         , dataproduct_type='timeseries'\n",
    "                                         ) \n",
    "\n",
    "# Get associated science products for each Observation\n",
    "data_products = Observations.get_product_list(TESS_table) \n",
    "\n",
    "# Keep only the science products\n",
    "filtered = Observations.filter_products(data_products, productType=\"SCIENCE\")\n",
    "\n",
    "# Be selective about the columns we display\n",
    "cols = ['obs_id', 'description', 'productSubGroupDescription']\n",
    "\n",
    "# Look at the first five rows of the filtered results\n",
    "filtered[0:5][cols]"
   ]
  },
  {
   "cell_type": "markdown",
   "id": "bcc9d990",
   "metadata": {},
   "source": [
    "We'd like to plot a light curve for this star, but we've returned a few different [TESS Data Products](https://outerspace.stsci.edu/display/TESS/2.0+-+Data+Product+Overview). \n",
    "\n",
    "A Target Pixel file (TPF) is a \"postage stamp\": a tiny subsection of TESS's full field of view that is focused around a specific target. TPFs are essentially a collection of images, allowing us to precisely measure the brightness of a particular patch of the sky.\n",
    "\n",
    "A Light Curve (LC) is a more processed version of a TPF, with target brightness already extracted. This makes it easy to create a plot, but we lose the ability to select which pixels belong to the target, and which pixels to the background.\n",
    "\n",
    "Let's explore these two file types in more detail by choosing an example Observation."
   ]
  },
  {
   "cell_type": "code",
   "execution_count": null,
   "id": "3a237f11",
   "metadata": {
    "tags": []
   },
   "outputs": [],
   "source": [
    "# We're fixing our example by providing the observation id\n",
    "ex_id = \"tess2018206045859-s0001-0000000279741379-0120-s\"\n",
    "\n",
    "# Get the light curve files\n",
    "lc_prod = Observations.filter_products(data_products\n",
    "                                      , obs_id = ex_id    # choosing a reproducable example\n",
    "                                      , productSubGroupDescription = \"LC\")\n",
    "\n",
    "# Get the target pixel files\n",
    "tp_prod = Observations.filter_products(data_products\n",
    "                                       , obs_id = ex_id    # Using the same example as above\n",
    "                                       , productSubGroupDescription = \"TP\")\n",
    "\n",
    "# Display the lc file as an example\n",
    "lc_prod[cols]"
   ]
  },
  {
   "cell_type": "markdown",
   "id": "25e492a1-8255-4b95-a8e0-96db09739aa9",
   "metadata": {},
   "source": [
    "We've selected the files we want, so now we need to access them."
   ]
  },
  {
   "cell_type": "markdown",
   "id": "51b5707c",
   "metadata": {},
   "source": [
    "### Download the FITS files"
   ]
  },
  {
   "cell_type": "code",
   "execution_count": null,
   "id": "7825d706",
   "metadata": {
    "tags": []
   },
   "outputs": [],
   "source": [
    "# Download the lc file\n",
    "lc_file = Observations.download_products(lc_prod)['Local Path'][0]\n",
    "\n",
    "#Take a peek at the FITS file we downloaded\n",
    "fits.info(lc_file)\n",
    "lc_fits = fits.open(lc_file)\n",
    "\n",
    "# Adding a line break\n",
    "print(\"\\n\")\n",
    "\n",
    "# Now download the TP file\n",
    "tp_file = Observations.download_products(tp_prod)['Local Path'][0]\n",
    "\n",
    "#Take a peek at the FITS file we downloaded\n",
    "fits.info(tp_file)\n",
    "tp_fits = fits.open(tp_file)"
   ]
  },
  {
   "cell_type": "markdown",
   "id": "fb6968e5",
   "metadata": {},
   "source": [
    "We'll hold off on looking at the TPF for the moment. First, let's examine the contents of the LIGHTCURVE extension of our light curve FITS file. We can use this data to create a plot of the light curve."
   ]
  },
  {
   "cell_type": "code",
   "execution_count": null,
   "id": "dda5e69f",
   "metadata": {
    "tags": []
   },
   "outputs": [],
   "source": [
    "lc = lc_fits[1].data\n",
    "lc.columns"
   ]
  },
  {
   "cell_type": "markdown",
   "id": "e22ff467",
   "metadata": {},
   "source": [
    "We can see that the LIGHTCURVE extension has columns for TIME and two different fluxes: SAP_FLUX and PDCSAP_FLUX. Let's plot both of them and compare. "
   ]
  },
  {
   "cell_type": "markdown",
   "id": "2d5ce850",
   "metadata": {},
   "source": [
    "### Plot the Light Curve"
   ]
  },
  {
   "cell_type": "code",
   "execution_count": null,
   "id": "7e4e2950",
   "metadata": {
    "tags": []
   },
   "outputs": [],
   "source": [
    "sapflux = lc['SAP_FLUX'] #SAP flux column\n",
    "pdcflux = lc['PDCSAP_FLUX'] #PDCSAP flux column\n",
    "time_lc = lc['TIME'] #time column\n",
    "\n",
    "fig = plt.figure(figsize = (11,4))\n",
    "\n",
    "fig.add_subplot(211)\n",
    "plt.plot(time_lc, sapflux,'.', label = 'SAP', color = \"gold\")\n",
    "plt.legend(loc = 'lower left')\n",
    "plt.ylabel(\"FLUX (e-/s)\")\n",
    "\n",
    "fig.add_subplot(212)\n",
    "plt.plot(time_lc, pdcflux,'.', label = 'PDC', color = \"red\")\n",
    "plt.legend(loc = 'lower left')\n",
    "plt.ylabel(\"FLUX (e-/s)\")\n",
    "plt.xlabel('TIME  (BJD-2457000)')"
   ]
  },
  {
   "cell_type": "markdown",
   "id": "33020dc8",
   "metadata": {},
   "source": [
    "We notice some intersting things about this data immediately. \n",
    "\n",
    "SAP stands for Simple Aperture Photometry. It is the \"raw data\", so it's just a sum of all the pixels in the target aperture.\n",
    "\n",
    "The Pre-search Data Conditioning (PDC) light curve removes any long-term trends from the data. It is intended to enhance transiting planet signals and may not be suitable if you're looking for other astrophysical phenomena."
   ]
  },
  {
   "cell_type": "markdown",
   "id": "fa39b64a",
   "metadata": {},
   "source": [
    "### Creating a Light Curve from the Target Pixel File\n",
    "\n",
    "Now, we will use the other FITS file we have downloaded to extract the light curve from the pixels. Aftwards, we can compare these two light curves. \n",
    "\n",
    "Let's start by examining the contents of our Target Pixel FITS file. "
   ]
  },
  {
   "cell_type": "code",
   "execution_count": null,
   "id": "2ddb555c",
   "metadata": {
    "tags": []
   },
   "outputs": [],
   "source": [
    "fits.info(tp_file)"
   ]
  },
  {
   "cell_type": "markdown",
   "id": "d50d0070",
   "metadata": {},
   "source": [
    "#### Determining the Optimal Aperture from the PIXELS extension\n",
    "Each pixel in the aperture extension image is an integer that represents a set of binary flags. The entire set of flags and what they mean can be found in the [TESS Archive Manual](https://outerspace.stsci.edu/display/TESS/TESS+Archive+Manual). Of interest to us in this exersize is which pixels belong to the \"optimal aperture\" used to create this target's light curve."
   ]
  },
  {
   "cell_type": "code",
   "execution_count": null,
   "id": "027f8a1a",
   "metadata": {
    "tags": []
   },
   "outputs": [],
   "source": [
    "aperture_image = tp_fits[2].data\n",
    "aperture = np.bitwise_and(aperture_image, 2) / float(2)\n",
    "aperture"
   ]
  },
  {
   "cell_type": "markdown",
   "id": "c6c134d6",
   "metadata": {},
   "source": [
    "### Get the Flux and Time for the Optimal Aperture\n",
    "We can see that there are some values of \"1\" in our optimal aperture array, these indicate the pixels that we will use to create the target's light curve. Now, to create a time series we need to sum the FLUX values for each of the pixels in the optimal aperture. "
   ]
  },
  {
   "cell_type": "code",
   "execution_count": null,
   "id": "836b0e60",
   "metadata": {
    "tags": []
   },
   "outputs": [],
   "source": [
    "#This is a basic function for getting the aperture photometry\n",
    "def aperture_phot(image,aperture):\n",
    "    flux = np.sum(image[aperture==1])\n",
    "    return flux"
   ]
  },
  {
   "cell_type": "code",
   "execution_count": null,
   "id": "a754d3b6",
   "metadata": {
    "tags": []
   },
   "outputs": [],
   "source": [
    "#get the data for the PIXELS extension of our fits file\n",
    "pix = tp_fits[1].data\n",
    "\n",
    "#Use the map lambda function to sum all the flux in each pixel in our defined aperture\n",
    "flux = np.array(list (map (lambda x: aperture_phot(x,aperture), pix['FLUX'])))\n",
    "\n",
    "#get the time from the PIXELS extension of our fits file\n",
    "time = pix[\"TIME\"]"
   ]
  },
  {
   "cell_type": "markdown",
   "id": "edd4b503",
   "metadata": {},
   "source": [
    "### Plot the Light Curve\n"
   ]
  },
  {
   "cell_type": "code",
   "execution_count": null,
   "id": "9c0ea151",
   "metadata": {
    "tags": []
   },
   "outputs": [],
   "source": [
    "fig = plt.figure(figsize = (11,4))\n",
    "fig.add_subplot(212)\n",
    "plt.plot(time, flux,'.', color = \"green\")\n",
    "plt.ylabel(\"FLUX (e-/s)\")\n",
    "plt.xlabel('TIME  (BJD-2457000)')"
   ]
  },
  {
   "cell_type": "markdown",
   "id": "202b562f",
   "metadata": {},
   "source": [
    "### Compare Light Curves\n",
    "Now that we have a SAP_FLUX light curve and and the light curve we calculated with the target pixel files, we can overplot them."
   ]
  },
  {
   "cell_type": "code",
   "execution_count": null,
   "id": "66fa7d2e",
   "metadata": {
    "tags": []
   },
   "outputs": [],
   "source": [
    "fig = plt.figure(figsize = (11,4))\n",
    "fig.add_subplot(211)\n",
    "plt.plot(time_lc, sapflux, \".\", color = \"gold\")\n",
    "plt.plot(time, flux,'.', color = \"green\")\n",
    "plt.ylabel(\"FLUX (e-/s)\")\n",
    "plt.xlabel('TIME  (BJD-2457000)')"
   ]
  },
  {
   "cell_type": "markdown",
   "id": "5a60fe52",
   "metadata": {},
   "source": [
    "Success! The light curve that we calculated from our Target Pixel file overlaps exactly the SAP_FLUX light curve we got from the Light Curve file."
   ]
  },
  {
   "cell_type": "markdown",
   "id": "9eb7c3f1",
   "metadata": {},
   "source": [
    "## Create a Light Curve from an FFI\n",
    "Lastly, we will explore how to get a light curve by cutting out an FFI (Full Frame Image). This time, we will be using observations of a known exoplanetary system around the star, TOI-778, also known as, HD 115447. \n",
    "\n",
    "TOI-778b is a large exoplanet, with a mass of 2.8 and a radius of 1.37 times that of Jupiter, orbiting with a period of 4.63 days at a distance of about 0.06 AU.   "
   ]
  },
  {
   "cell_type": "code",
   "execution_count": null,
   "id": "3cbd77a8",
   "metadata": {
    "tags": []
   },
   "outputs": [],
   "source": [
    "TESS_table = Observations.query_criteria(objectname=\"HD 115447\"\n",
    "                                         , obs_collection=\"TESS\"\n",
    "                                         , target_name=\"TESS FFI\")\n",
    "\n",
    "TESS_table"
   ]
  },
  {
   "cell_type": "markdown",
   "id": "b00a2cc3",
   "metadata": {},
   "source": [
    "We can see that there are multiple FFI's for HD 115447 in the TESS database. Great!\n",
    "\n",
    "### Use Astrocut to get pixel timeseries cutout from TESS FFIs\n",
    "\n",
    "Now, we have to use the package Astrocut to cut out the pixels in our FFI around our target's coordinates. This will give us am HDUlist. HDUlist objects are the same thing you get back when you download a fits file and then run `astropy.io.fits.open(FITS_file_name)`, which is what we did earlier. \n",
    "\n",
    "The format of the data now is exactly the same as a Target Pixel File, so we will perform the same steps as before to plot the light curve. \n"
   ]
  },
  {
   "cell_type": "code",
   "execution_count": null,
   "id": "cdab8b16",
   "metadata": {
    "tags": []
   },
   "outputs": [],
   "source": [
    "# Get the FFI cutout\n",
    "hdulist = Tesscut.get_cutouts(objectname = \"HD 115447\"\n",
    "                              , size=10    # return a 10x10 grid of pixels\n",
    "                              , sector=10  # get only data from sector 10\n",
    "                             )"
   ]
  },
  {
   "cell_type": "code",
   "execution_count": null,
   "id": "6e0de97b",
   "metadata": {
    "tags": []
   },
   "outputs": [],
   "source": [
    "# Look at the file headers\n",
    "hdulist[0].info()\n",
    "\n",
    "# Load the first results\n",
    "hdu1 = hdulist[0]"
   ]
  },
  {
   "cell_type": "markdown",
   "id": "d10c0023",
   "metadata": {},
   "source": [
    "Now, we will follow the same steps as earlier for using a Target Pixel File to plot a light curve. This will utilize the function we defined earlier `aperture_phot`. However, this time we will be using all the pixels in the cutout instead of finding an Optimal Aperture. To use all the returned pixels, we set our 2D aperture array to be True for all those with a value of 1 in that image. "
   ]
  },
  {
   "cell_type": "code",
   "execution_count": null,
   "id": "adf4620c",
   "metadata": {
    "tags": []
   },
   "outputs": [],
   "source": [
    "# Use all pixels in our aperture\n",
    "aperture_ffi = hdu1[2].data\n",
    "\n",
    "# get the data for the PIXELS extension of our fits file\n",
    "pix_ffi = hdu1[1].data\n",
    "\n",
    "# Use the map lambda function to sum all the flux in each pixel in our defined aperture\n",
    "flux_ffi = np.array(list (map (lambda x: aperture_phot(x, aperture_ffi), pix_ffi['FLUX'])))\n",
    "\n",
    "# Get the time array so we have an x-axis to plot\n",
    "time_ffi = hdu1[1].data['TIME']"
   ]
  },
  {
   "cell_type": "markdown",
   "id": "f3ed69b2",
   "metadata": {},
   "source": [
    "### Plot the Light Curve\n",
    "\n",
    "As before, we'll create a flux vs. time plot of the data."
   ]
  },
  {
   "cell_type": "code",
   "execution_count": null,
   "id": "634f5753",
   "metadata": {
    "scrolled": true,
    "tags": []
   },
   "outputs": [],
   "source": [
    "# Create the figure/subplot\n",
    "fig = plt.figure(figsize = (11,6))\n",
    "fig.add_subplot(212)\n",
    "\n",
    "# Add the data and axis labels\n",
    "plt.plot(time_ffi, flux_ffi,'.', color = \"dodgerblue\")\n",
    "plt.ylabel(\"FLUX (e-/s)\")\n",
    "plt.xlabel('TIME  (BJD-2457000)')"
   ]
  },
  {
   "cell_type": "markdown",
   "id": "a2cf1f69",
   "metadata": {},
   "source": [
    "Wait! This looks very different from our plots before. It turns out that behind the scenes, our TPFs and LCs were benefitting additional calibration and background subtraction. The two spikes we see are effects of TESS's orbit and stray light from the Earth or the moon.\n",
    "\n",
    "We could do background subtraction ourselves, but that topic is addressed in later Notebooks (e.g. 09). For now, let's just \"zoom in\" around the level of flux and see if we can spot the transits."
   ]
  },
  {
   "cell_type": "code",
   "execution_count": null,
   "id": "7ea9c9d7",
   "metadata": {
    "tags": []
   },
   "outputs": [],
   "source": [
    "# Create the same plot as before\n",
    "fig = plt.figure(figsize = (11,6))\n",
    "fig.add_subplot(212)\n",
    "plt.plot(time_ffi, flux_ffi,'.', color = \"dodgerblue\")\n",
    "plt.ylabel(\"FLUX (e-/s)\")\n",
    "plt.xlabel('TIME  (BJD-2457000)')\n",
    "\n",
    "# Zoom in on the. y-axis\n",
    "plt.ylim(75000,78000)"
   ]
  },
  {
   "cell_type": "markdown",
   "id": "6714979d",
   "metadata": {},
   "source": [
    "Now, it is clear that there are four transits of TOI-778b in this light curve. Despite our sloppy data processing, the transits are easily visible since it is a large planet orbiting close to its host star. These types of \"large, near to their host star\" exoplanets are known as \"hot jupiters\". You can learn more about hot jupiters by visiting NASA's [Exoplanet Exploration page](https://exoplanets.nasa.gov/resources/1040/hot-jupiter/)."
   ]
  },
  {
   "cell_type": "markdown",
   "id": "070ead40",
   "metadata": {},
   "source": [
    "## More application for timeseries data\n",
    "We call lightcurves \"timeseries\" data because it is the process of visualizing the light from an object (or system) in the **time domain**, as opposed to the wavelength domain (which would be called a spectrum) or just in the sky (which would be called an image).\n",
    "\n",
    "As hinted at in the beginning of this lesson, lightcurves can be used to analyse a wide variety of astronomical systems. Including, but not limited to, transient events such as supernovae or gamma ray bursts, periodic variations such as eclipsing binary stars or radio pulsars, and they can be used to detect aperiodic variations too such as blackholes with bright accretion disks. For more information on the many applications of lightcurves in astronomy, check out both the [basic](https://imagine.gsfc.nasa.gov/science/toolbox/timing1.html) and [advanced](https://imagine.gsfc.nasa.gov/science/toolbox/timing2.html) pages on timing analysis from NASA. "
   ]
  },
  {
   "cell_type": "markdown",
   "id": "715ca6dd",
   "metadata": {},
   "source": [
    "## Homework\n",
    "<!-- Geometry puzzle. Assuming a normal distribution of orbital inclinations, what fraction of planets with radius R$_E$ would we observe fully transiting the disk of their sun-like (R = R☉) host stars?  -->\n",
    "\n",
    "Choose an exoplanet from the TESS [Target Of Interested (TOI)](https://tev.mit.edu/data/collection/193/) table, perform a TESSCut, and plot a lightcurve from the FFI. Can you identify any dips in the lightcurve that correspond to a transit of this planet? "
   ]
  },
  {
   "cell_type": "markdown",
   "id": "36803e83",
   "metadata": {},
   "source": [
    "## Additional Resources\n",
    "Can't get enough? Here are some links to more information!\n",
    "\n",
    "Here is the paper which announced TESS's [discovery of the exoplanets around HD 21749](https://iopscience.iop.org/article/10.3847/2041-8213/ab12ed/meta). \n",
    "\n",
    "Here is a link to the [SIMBAD page](https://simbad.u-strasbg.fr/simbad/sim-id?Ident=TOI-778&submit=submit+id) on TOI-778.\n",
    "\n",
    "NASA's [Exoplanet Exploration](https://exoplanets.nasa.gov/resources/1040/hot-jupiter/) page on Hot Jupiters. \n",
    "\n",
    "NASA's [basic](https://imagine.gsfc.nasa.gov/science/toolbox/timing1.html) and [advanced](https://imagine.gsfc.nasa.gov/science/toolbox/timing2.html) pages on lightcurves and timing analysis.\n",
    "\n",
    "Here are a few resources on Transit Geometry and Probability:\n",
    "- NASA's [About Transits](https://www.nasa.gov/kepler/overview/abouttransits) page\n",
    "- Astrobites article on [Transit Probability](https://astrobites.org/2013/05/23/transit-probabilities-not-as-simple-as-they-seem/)\n",
    "- [Textbook chapter](https://ethz.ch/content/dam/ethz/special-interest/phys/particle-physics/quanz-group-dam/documents-old-s-and-p/Courses/ExtrasolarPlanetsFS2016/exop2016_chapter3_part2.pdf) on Transits from ETH Zurich\n",
    "\n",
    "For more info on TESS data products, visit the [Data Product Overview Page](https://outerspace.stsci.edu/display/TESS/2.0+-+Data+Product+Overview)."
   ]
  },
  {
   "cell_type": "markdown",
   "id": "e982bb4e",
   "metadata": {},
   "source": [
    "## Whats next?\n",
    "You may have noticed that there is some messy signal in our light curves, next week we will learn what a data quality flag is and how to remove data corresponding to bad data quality flags in order to clean up our plots. Additonally, we will start to look into other types of systems that can be identified using the transit method/light curves. "
   ]
  },
  {
   "cell_type": "markdown",
   "id": "d93928cc",
   "metadata": {},
   "source": [
    "## Acknowledgements\n",
    "\n",
    "This notebook includes data collected with the TESS mission, obtained from the MAST data archive at the Space Telescope Science Institute (STScI). Funding for the TESS mission is provided by the NASA Explorer Program. STScI is operated by the Association of Universities for Research in Astronomy, Inc., under NASA contract NAS 5–26555.\n",
    "\n",
    "Any published work that uses Astroquery should include a citation which can be found at [this link](https://github.com/astropy/astroquery/blob/main/astroquery/CITATION) or the BibTeX entry is available from the package itself with: `astroquery.__citation__`"
   ]
  },
  {
   "cell_type": "markdown",
   "id": "a311f3ec",
   "metadata": {},
   "source": [
    "### Notebook Information:\n",
    "Author: Emma Lieb\n",
    "\n",
    "Last Updated: 07/20/2023"
   ]
  }
 ],
 "metadata": {
  "kernelspec": {
   "display_name": "Python 3 (ipykernel)",
   "language": "python",
   "name": "python3"
  },
  "language_info": {
   "codemirror_mode": {
    "name": "ipython",
    "version": 3
   },
   "file_extension": ".py",
   "mimetype": "text/x-python",
   "name": "python",
   "nbconvert_exporter": "python",
   "pygments_lexer": "ipython3",
   "version": "3.11.4"
  }
 },
 "nbformat": 4,
 "nbformat_minor": 5
}
