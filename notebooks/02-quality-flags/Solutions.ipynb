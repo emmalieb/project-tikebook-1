{
 "cells": [
  {
   "cell_type": "code",
   "execution_count": null,
   "id": "37285cb5",
   "metadata": {},
   "outputs": [],
   "source": [
    "pg = lc.to_periodogram(minimum_period = 1, maximum_period = 6)\n",
    "pg.plot()\n",
    "#get the orbital period of our planet\n",
    "period = pg.period_at_max_power\n",
    "print(period)"
   ]
  }
 ],
 "metadata": {
  "kernelspec": {
   "display_name": "Python 3 (ipykernel)",
   "language": "python",
   "name": "python3"
  },
  "language_info": {
   "codemirror_mode": {
    "name": "ipython",
    "version": 3
   },
   "file_extension": ".py",
   "mimetype": "text/x-python",
   "name": "python",
   "nbconvert_exporter": "python",
   "pygments_lexer": "ipython3",
   "version": "3.10.9"
  }
 },
 "nbformat": 4,
 "nbformat_minor": 5
}
