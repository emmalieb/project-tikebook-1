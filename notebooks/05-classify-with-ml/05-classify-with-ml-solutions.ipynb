{
 "cells": [
  {
   "cell_type": "code",
   "execution_count": 4,
   "id": "bca91b0f-e544-4f17-ba4d-7558795645da",
   "metadata": {
    "tags": []
   },
   "outputs": [],
   "source": [
    "# arrays\n",
    "import numpy as np\n",
    "\n",
    "# unpacking files \n",
    "import tarfile\n",
    "\n",
    "# fits\n",
    "from astropy.io import fits\n",
    "from astropy.utils.data import download_file\n",
    "\n",
    "# plotting\n",
    "import matplotlib.pyplot as plt\n",
    "from matplotlib import ticker\n",
    "\n",
    "# stella CNN functions\n",
    "import stella\n",
    "\n",
    "# keras\n",
    "from keras.models import Sequential, Model, load_model\n",
    "from keras.layers import Input, Flatten, Dense, Activation, Dropout, BatchNormalization\n",
    "from keras.layers.convolutional import Convolution1D, MaxPooling1D\n",
    "\n",
    "# sklearn for performance metrics\n",
    "from sklearn import metrics\n",
    "\n",
    "# lightkurve\n",
    "from lightkurve.search import search_lightcurve\n",
    "\n",
    "# from IPython import get_ipython\n",
    "# get_ipython().run_line_magic('matplotlib', 'notebook')\n",
    "\n",
    "# set random seed for reproducibility \n",
    "np.random.seed(42)"
   ]
  },
  {
   "cell_type": "markdown",
   "id": "916a7509-3875-4485-bef7-dadad7d97d22",
   "metadata": {},
   "source": [
    "# Exercise 1: better performance with a better model\n",
    "\n",
    "We'll take the same steps as in the other notebook, but with less narrative in between."
   ]
  },
  {
   "cell_type": "code",
   "execution_count": 5,
   "id": "bd285e3e-1b2c-4b53-a637-e30540c6ee73",
   "metadata": {
    "tags": []
   },
   "outputs": [
    {
     "name": "stdout",
     "output_type": "stream",
     "text": [
      "Reading in training set files.\n"
     ]
    },
    {
     "name": "stderr",
     "output_type": "stream",
     "text": [
      "100%|██████████| 62/62 [00:00<00:00, 469.93it/s]"
     ]
    },
    {
     "name": "stdout",
     "output_type": "stream",
     "text": [
      "502 positive classes (flare)\n",
      "1342 negative classes (no flare)\n",
      "37.0% class imbalance\n",
      "\n"
     ]
    },
    {
     "name": "stderr",
     "output_type": "stream",
     "text": [
      "\n"
     ]
    }
   ],
   "source": [
    "file_url = 'https://archive.stsci.edu/hlsps/hellouniverse/hellouniverse_stella_500.tar.gz'\n",
    "\n",
    "\n",
    "file = tarfile.open(download_file(file_url, cache=True))\n",
    "\n",
    "\n",
    "file.extractall('.')\n",
    "file.close() # be sure to close files when you're finished with them!\n",
    "\n",
    "data_dir = './hellouniverse_stella_500/'\n",
    "ds = stella.FlareDataSet(fn_dir=data_dir,\n",
    "                         catalog=data_dir+'Guenther_2020_flare_catalog.txt')"
   ]
  },
  {
   "cell_type": "code",
   "execution_count": 6,
   "id": "8cd5c504-8f08-4604-a01d-40cf96da412d",
   "metadata": {
    "tags": []
   },
   "outputs": [],
   "source": [
    "# remove lightcurves with NaNs from training, test and validation data\n",
    "def remove_nans(input_data):\n",
    "    '''Determine indices of files without NaNs'''\n",
    "\n",
    "    idx = []\n",
    "    for k in range(np.shape(input_data)[0]):\n",
    "        if len(input_data[k, :, :][np.isnan(input_data[k, :, :])]) == 0:\n",
    "            idx.append(k)\n",
    "    # AS: how do we want to talk about functions? assume that people know how they work for the intermediate notebooks?\n",
    "    return idx\n",
    "\n",
    "\n",
    "# find indices in train, test and validation sets without NaNs\n",
    "idx_train = remove_nans(ds.train_data)\n",
    "idx_test = remove_nans(ds.test_data)\n",
    "idx_val = remove_nans(ds.val_data)\n",
    "\n",
    "ds.train_data = ds.train_data[idx_train]\n",
    "ds.train_labels = ds.train_labels[idx_train]\n",
    "\n",
    "ds.test_data = ds.test_data[idx_test]\n",
    "ds.test_labels = ds.test_labels[idx_test]\n",
    "\n",
    "ds.val_data = ds.val_data[idx_val]\n",
    "ds.val_labels = ds.val_labels[idx_val]"
   ]
  },
  {
   "cell_type": "code",
   "execution_count": 7,
   "id": "0ae38475-222c-403d-86c8-585032349ea4",
   "metadata": {
    "tags": []
   },
   "outputs": [
    {
     "name": "stdout",
     "output_type": "stream",
     "text": [
      "Model: \"model\"\n",
      "_________________________________________________________________\n",
      " Layer (type)                Output Shape              Param #   \n",
      "=================================================================\n",
      " input_1 (InputLayer)        [(None, 200, 1)]          0         \n",
      "                                                                 \n",
      " conv1d (Conv1D)             (None, 200, 7)            119       \n",
      "                                                                 \n",
      " max_pooling1d (MaxPooling1D  (None, 100, 7)           0         \n",
      " )                                                               \n",
      "                                                                 \n",
      " dropout (Dropout)           (None, 100, 7)            0         \n",
      "                                                                 \n",
      " conv1d_1 (Conv1D)           (None, 100, 3)            1347      \n",
      "                                                                 \n",
      " max_pooling1d_1 (MaxPooling  (None, 50, 3)            0         \n",
      " 1D)                                                             \n",
      "                                                                 \n",
      " dropout_1 (Dropout)         (None, 50, 3)             0         \n",
      "                                                                 \n",
      " flatten (Flatten)           (None, 150)               0         \n",
      "                                                                 \n",
      " dense (Dense)               (None, 128)               19328     \n",
      "                                                                 \n",
      " dropout_2 (Dropout)         (None, 128)               0         \n",
      "                                                                 \n",
      " dense_1 (Dense)             (None, 1)                 129       \n",
      "                                                                 \n",
      "=================================================================\n",
      "Total params: 20,923\n",
      "Trainable params: 20,923\n",
      "Non-trainable params: 0\n",
      "_________________________________________________________________\n"
     ]
    }
   ],
   "source": [
    "# set the random seed\n",
    "seed = 42\n",
    "np.random.seed(seed)\n",
    "\n",
    "dense = 128\n",
    "\n",
    "filter1 = 16\n",
    "filter2 = 64\n",
    "\n",
    "# ok, let's do a real hyperparameter optimization.\n",
    "\n",
    "dense = 128\n",
    "\n",
    "dropout = 0.1 # let's keep this low for now.\n",
    "\n",
    "data_shape = np.shape(ds.train_data)\n",
    "input_shape = (np.shape(ds.train_data)[1], 1)\n",
    "\n",
    "# set up the network\n",
    "x_in = Input(shape=input_shape)\n",
    "c0 = Convolution1D(7, filter1, activation='relu', padding='same', input_shape=input_shape)(x_in)\n",
    "b0 = MaxPooling1D(pool_size=2)(c0)\n",
    "d0 = Dropout(dropout)(b0)\n",
    "\n",
    "c1 = Convolution1D(3, filter2, activation='relu', padding='same')(d0)\n",
    "b1 = MaxPooling1D(pool_size=2)(c1)\n",
    "d1 = Dropout(dropout)(b1)\n",
    "\n",
    "\n",
    "f = Flatten()(d1)\n",
    "z0 = Dense(dense, activation='relu')(f)\n",
    "d2 = Dropout(dropout)(z0)\n",
    "y_out = Dense(1, activation='sigmoid')(d2)\n",
    "\n",
    "\n",
    "# instantiate the network\n",
    "cnn = Model(inputs=x_in, outputs=y_out)\n",
    "\n",
    "# Compile Model\n",
    "optimizer = 'adam'\n",
    "fit_metrics = ['accuracy'] \n",
    "loss = 'binary_crossentropy'\n",
    "cnn.compile(loss=loss, optimizer=optimizer, metrics=fit_metrics)\n",
    "cnn.summary()\n",
    "\n",
    "\n",
    "nb_epoch = 500 # the model sees the dataset 100 times\n",
    "batch_size = 64 # 64 light curves are seen before the model updates itself\n",
    "\n",
    "# between each epoch, present the data in a different order. This can help prevent overfitting or order bias.\n",
    "shuffle = True \n",
    "\n",
    "# Train\n",
    "history = cnn.fit(ds.train_data, ds.train_labels,\n",
    "                  batch_size=batch_size, \n",
    "                  epochs=nb_epoch, \n",
    "                  validation_data=(ds.val_data, ds.val_labels), \n",
    "                  shuffle=shuffle,\n",
    "                  verbose=False) # we lower the verbosity — because that's a lot of epochs to priont!"
   ]
  },
  {
   "cell_type": "code",
   "execution_count": 8,
   "id": "796a4960-70f0-4ef5-accd-162206b0c47f",
   "metadata": {
    "tags": []
   },
   "outputs": [],
   "source": [
    "def plot_confusion_matrix(cnn, input_data, input_labels):\n",
    "    \n",
    "    # Compute flare predictions for the test dataset\n",
    "    predictions = cnn.predict(input_data)\n",
    "\n",
    "    # Convert to binary classification \n",
    "    predictions = (predictions > 0.5).astype('int32') \n",
    "    \n",
    "    # Compute the confusion matrix by comparing the test labels (ds.test_labels) with the test predictions\n",
    "    cm = metrics.confusion_matrix(input_labels, predictions, labels=[0, 1])\n",
    "    cm = cm.astype('float')\n",
    "\n",
    "    # Normalize the confusion matrix results. \n",
    "    cm_norm = cm / cm.sum(axis=1)[:, np.newaxis]\n",
    "    \n",
    "    # Plotting\n",
    "    fig = plt.figure()\n",
    "    ax = fig.add_subplot(111)\n",
    "\n",
    "    ax.matshow(cm_norm, cmap='binary_r')\n",
    "\n",
    "    plt.title('Confusion matrix', y=1.08)\n",
    "    \n",
    "    ax.set_xticks([0, 1])\n",
    "    ax.set_xticklabels(['Flare', 'No Flare'])\n",
    "    \n",
    "    ax.set_yticks([0, 1])\n",
    "    ax.set_yticklabels(['Flare', 'No Flare'])\n",
    "\n",
    "    plt.xlabel('Predicted')\n",
    "    plt.ylabel('True')\n",
    "\n",
    "    fmt = '.2f'\n",
    "    thresh = cm_norm.max() / 2.\n",
    "    for i in range(cm_norm.shape[0]):\n",
    "        for j in range(cm_norm.shape[1]):\n",
    "            ax.text(j, i, format(cm_norm[i, j], fmt), \n",
    "                    ha=\"center\", va=\"center\",color=\"white\" if cm_norm[i, j] < thresh else \"black\")\n",
    "    plt.show()"
   ]
  },
  {
   "cell_type": "code",
   "execution_count": null,
   "id": "2eb9b8ed-4e1d-4dc9-b4be-4f9f5b3d0ee7",
   "metadata": {
    "tags": []
   },
   "outputs": [
    {
     "name": "stdout",
     "output_type": "stream",
     "text": [
      "6/6 [==============================] - 0s 3ms/step\n"
     ]
    },
    {
     "data": {
      "image/png": "[encoded data removed]",
      "text/plain": [
       "<Figure size 640x480 with 1 Axes>"
      ]
     },
     "metadata": {},
     "output_type": "display_data"
    }
   ],
   "source": [
    "plot_confusion_matrix(cnn, ds.test_data, ds.test_labels)\n"
   ]
  },
  {
   "cell_type": "code",
   "execution_count": null,
   "id": "4435c7f7-d7a8-42c7-9583-3bfa15dbe11e",
   "metadata": {
    "tags": []
   },
   "outputs": [],
   "source": [
    "# need to check the validation and loss"
   ]
  },
  {
   "cell_type": "code",
   "execution_count": null,
   "id": "567163b2-87eb-4ed9-927e-c86eefddcf00",
   "metadata": {
    "tags": []
   },
   "outputs": [
    {
     "data": {
      "text/plain": [
       "Text(0, 0.5, 'Loss')"
      ]
     },
     "execution_count": 11,
     "metadata": {},
     "output_type": "execute_result"
    },
    {
     "data": {
      "image/png": "[encoded data removed]",
      "text/plain": [
       "<Figure size 640x480 with 1 Axes>"
      ]
     },
     "metadata": {},
     "output_type": "display_data"
    }
   ],
   "source": [
    "plt.plot(history.history['val_loss'])\n",
    "plt.plot(history.history['loss'])\n",
    "\n",
    "plt.xlabel('Epochs', fontsize=25)\n",
    "plt.ylabel('Loss', fontsize=25)"
   ]
  },
  {
   "cell_type": "code",
   "execution_count": null,
   "id": "c07b6c84-c2e3-4fca-ab96-c4774ab9d1c7",
   "metadata": {
    "tags": []
   },
   "outputs": [
    {
     "data": {
      "text/plain": [
       "Text(0, 0.5, 'Accuracy')"
      ]
     },
     "execution_count": 12,
     "metadata": {},
     "output_type": "execute_result"
    },
    {
     "data": {
      "image/png": "[encoded data removed]",
      "text/plain": [
       "<Figure size 640x480 with 1 Axes>"
      ]
     },
     "metadata": {},
     "output_type": "display_data"
    }
   ],
   "source": [
    "plt.plot(history.history['val_accuracy'])\n",
    "plt.plot(history.history['accuracy'])\n",
    "\n",
    "plt.xlabel('Epochs', fontsize=25)\n",
    "plt.ylabel('Accuracy', fontsize=25)"
   ]
  },
  {
   "cell_type": "markdown",
   "id": "d600f184-afe2-43f3-a5e5-90430ca63ea4",
   "metadata": {},
   "source": [
    "It seems like the validation and training loss are beginning to plateau. However, we haven't entered a particularly nasty regime yet — i.e., the validation loss hasn't begun to *increase*. So, it seems like there's still some room for more training even with just this dataset."
   ]
  },
  {
   "cell_type": "markdown",
   "id": "0103b22a-e0a6-463e-9aa6-0ae137b31dc2",
   "metadata": {},
   "source": [
    "# Exercise 2: better performance with more data\n",
    "\n",
    "Do note that using *this much more data* can take quite some time to download."
   ]
  },
  {
   "cell_type": "code",
   "execution_count": null,
   "id": "5245b8bb-8f2b-4744-bb13-98d99d2cf2f0",
   "metadata": {
    "tags": []
   },
   "outputs": [
    {
     "name": "stderr",
     "output_type": "stream",
     "text": [
      " 25%|██▍       | 146/587 [18:26<11:25,  1.55s/it]  "
     ]
    }
   ],
   "source": [
    "# take 2: more data. we'll use the download_catalog function from the stella documentation.\n",
    "download = stella.DownloadSets(fn_dir='.')\n",
    "download.download_catalog()\n",
    "download.flare_table = download.flare_table[0:4000]\n",
    "download.download_lightcurves()\n",
    "ds = stella.FlareDataSet(downloadSet=download)"
   ]
  },
  {
   "cell_type": "code",
   "execution_count": null,
   "id": "2c3649a1-bc93-474c-a361-d1fcbd24f321",
   "metadata": {},
   "outputs": [],
   "source": [
    "ds = stella.FlareDataSet(fn_dir='.',\n",
    "                         catalog='./'+'Guenther_2020_flare_catalog.txt')"
   ]
  },
  {
   "cell_type": "code",
   "execution_count": null,
   "id": "5d04a9fd-91db-40e5-b66c-89b39815b915",
   "metadata": {},
   "outputs": [],
   "source": [
    "# set the random seed\n",
    "seed = 42\n",
    "np.random.seed(seed)\n",
    "\n",
    "dense = 128\n",
    "\n",
    "filter1 = 16\n",
    "filter2 = 64\n",
    "\n",
    "# ok, let's do a real hyperparameter optimization.\n",
    "\n",
    "dense = 128\n",
    "\n",
    "dropout = 0.1 # let's keep this low for now.\n",
    "\n",
    "data_shape = np.shape(ds.train_data)\n",
    "input_shape = (np.shape(ds.train_data)[1], 1)\n",
    "\n",
    "# set up the network\n",
    "x_in = Input(shape=input_shape)\n",
    "c0 = Convolution1D(7, filter1, activation='relu', padding='same', input_shape=input_shape)(x_in)\n",
    "b0 = MaxPooling1D(pool_size=2)(c0)\n",
    "d0 = Dropout(dropout)(b0)\n",
    "\n",
    "c1 = Convolution1D(3, filter2, activation='relu', padding='same')(d0)\n",
    "b1 = MaxPooling1D(pool_size=2)(c1)\n",
    "d1 = Dropout(dropout)(b1)\n",
    "\n",
    "\n",
    "f = Flatten()(d1)\n",
    "z0 = Dense(dense, activation='relu')(f)\n",
    "d2 = Dropout(dropout)(z0)\n",
    "y_out = Dense(1, activation='sigmoid')(d2)\n",
    "\n",
    "\n",
    "# instantiate the network\n",
    "cnn = Model(inputs=x_in, outputs=y_out)\n",
    "\n",
    "# Compile Model\n",
    "optimizer = 'adam'\n",
    "fit_metrics = ['accuracy'] \n",
    "loss = 'binary_crossentropy'\n",
    "cnn.compile(loss=loss, optimizer=optimizer, metrics=fit_metrics)\n",
    "cnn.summary()\n",
    "\n",
    "\n",
    "nb_epoch = 500 # the model sees the dataset 100 times\n",
    "batch_size = 64 # 64 light curves are seen before the model updates itself\n",
    "\n",
    "# between each epoch, present the data in a different order. This can help prevent overfitting or order bias.\n",
    "shuffle = True \n",
    "\n",
    "# Train\n",
    "history = cnn.fit(ds.train_data, ds.train_labels,\n",
    "                  batch_size=batch_size, \n",
    "                  epochs=nb_epoch, \n",
    "                  validation_data=(ds.val_data, ds.val_labels), \n",
    "                  shuffle=shuffle,\n",
    "                  verbose=False) # we lower the verbosity — because that's a lot of epochs to priont!"
   ]
  },
  {
   "cell_type": "code",
   "execution_count": null,
   "id": "29c4f4ab-0700-4be9-bae2-cd01a2dfc2e2",
   "metadata": {
    "tags": []
   },
   "outputs": [],
   "source": [
    "plot_confusion_matrix(cnn, ds.test_data, ds.test_labels)\n"
   ]
  },
  {
   "cell_type": "code",
   "execution_count": null,
   "id": "46227395-f83b-4dec-aa3a-b21b433a43ce",
   "metadata": {
    "tags": []
   },
   "outputs": [],
   "source": [
    "plt.plot(history.history['val_loss'])\n",
    "plt.plot(history.history['loss'])\n",
    "\n",
    "plt.xlabel('Epochs', fontsize=25)\n",
    "plt.ylabel('Loss', fontsize=25)"
   ]
  },
  {
   "cell_type": "code",
   "execution_count": null,
   "id": "5a3d8dd0-d0e5-4f28-a3d3-487353364245",
   "metadata": {
    "tags": []
   },
   "outputs": [],
   "source": [
    "plt.plot(history.history['val_accuracy'])\n",
    "plt.plot(history.history['accuracy'])\n",
    "\n",
    "plt.xlabel('Epochs', fontsize=25)\n",
    "plt.ylabel('Accuracy', fontsize=25)"
   ]
  },
  {
   "cell_type": "markdown",
   "id": "9dd3fa8a-f94d-4623-aabe-e8fc259b7567",
   "metadata": {},
   "source": [
    "# Exercise 3: Masking out data gaps"
   ]
  },
  {
   "cell_type": "markdown",
   "id": "035c734d-5125-4529-8340-1b59a63adc8f",
   "metadata": {},
   "source": [
    "Below is an example function to mask out gaps in data."
   ]
  },
  {
   "cell_type": "code",
   "execution_count": 1,
   "id": "5b290e25-6c50-4131-acc3-74f7d42b8161",
   "metadata": {},
   "outputs": [],
   "source": [
    "from lightkurve.search import search_lightcurve\n",
    "import matplotlib.pyplot as plt\n",
    "import numpy as np"
   ]
  },
  {
   "cell_type": "code",
   "execution_count": 2,
   "id": "62931b93-2d39-41b5-a7db-2774f800d918",
   "metadata": {
    "tags": []
   },
   "outputs": [
    {
     "name": "stdout",
     "output_type": "stream",
     "text": [
      "Collecting git+https://github.com/afeinstein20/stella\n",
      "  Cloning https://github.com/afeinstein20/stella to /tmp/pip-req-build-d490_k2o\n",
      "  Resolved https://github.com/afeinstein20/stella to commit f9ffd78d1c7279012e870f3657812595f18eee74\n",
      "  Preparing metadata (setup.py): started\n",
      "  Preparing metadata (setup.py): finished with status 'done'\n",
      "Requirement already satisfied: nbsphinx in /opt/conda/envs/tess/lib/python3.8/site-packages (from stella==0.2.0rc2) (0.9.2)\n",
      "Requirement already satisfied: ipykernel in /opt/conda/envs/tess/lib/python3.8/site-packages (from stella==0.2.0rc2) (6.24.0)\n",
      "Requirement already satisfied: tensorflow>=2.1.0 in /opt/conda/envs/tess/lib/python3.8/site-packages (from stella==0.2.0rc2) (2.9.0)\n",
      "Requirement already satisfied: astroquery in /opt/conda/envs/tess/lib/python3.8/site-packages (from stella==0.2.0rc2) (0.4.6)\n",
      "Requirement already satisfied: astropy in /opt/conda/envs/tess/lib/python3.8/site-packages (from stella==0.2.0rc2) (5.2.2)\n",
      "Requirement already satisfied: tqdm in /opt/conda/envs/tess/lib/python3.8/site-packages (from stella==0.2.0rc2) (4.65.0)\n",
      "Requirement already satisfied: cython in /opt/conda/envs/tess/lib/python3.8/site-packages (from stella==0.2.0rc2) (0.29.36)\n",
      "Requirement already satisfied: codecov in /opt/conda/envs/tess/lib/python3.8/site-packages (from stella==0.2.0rc2) (2.1.13)\n",
      "Requirement already satisfied: coverage in /opt/conda/envs/tess/lib/python3.8/site-packages (from stella==0.2.0rc2) (7.2.7)\n",
      "Requirement already satisfied: pytest in /opt/conda/envs/tess/lib/python3.8/site-packages (from stella==0.2.0rc2) (7.4.0)\n",
      "Requirement already satisfied: pytest-cov in /opt/conda/envs/tess/lib/python3.8/site-packages (from stella==0.2.0rc2) (4.1.0)\n",
      "Requirement already satisfied: lxml in /opt/conda/envs/tess/lib/python3.8/site-packages (from stella==0.2.0rc2) (4.9.3)\n",
      "Requirement already satisfied: pybind11 in /opt/conda/envs/tess/lib/python3.8/site-packages (from stella==0.2.0rc2) (2.11.1)\n",
      "Requirement already satisfied: tornado in /opt/conda/envs/tess/lib/python3.8/site-packages (from stella==0.2.0rc2) (6.3.2)\n",
      "Requirement already satisfied: matplotlib in /opt/conda/envs/tess/lib/python3.8/site-packages (from stella==0.2.0rc2) (3.5.3)\n",
      "Requirement already satisfied: lightkurve>=2.0.0 in /opt/conda/envs/tess/lib/python3.8/site-packages (from stella==0.2.0rc2) (2.4.1.dev0)\n",
      "Requirement already satisfied: numpy in /opt/conda/envs/tess/lib/python3.8/site-packages (from stella==0.2.0rc2) (1.21.6)\n",
      "Requirement already satisfied: sklearn in /opt/conda/envs/tess/lib/python3.8/site-packages (from stella==0.2.0rc2) (0.0.post7)\n",
      "Requirement already satisfied: more-itertools in /opt/conda/envs/tess/lib/python3.8/site-packages (from stella==0.2.0rc2) (9.1.0)\n",
      "Requirement already satisfied: scipy!=1.4.1 in /opt/conda/envs/tess/lib/python3.8/site-packages (from stella==0.2.0rc2) (1.7.3)\n",
      "Requirement already satisfied: poetry in /opt/conda/envs/tess/lib/python3.8/site-packages (from stella==0.2.0rc2) (1.5.1)\n",
      "Requirement already satisfied: beautifulsoup4>=4.6.0 in /opt/conda/envs/tess/lib/python3.8/site-packages (from lightkurve>=2.0.0->stella==0.2.0rc2) (4.12.2)\n",
      "Requirement already satisfied: bokeh>=2.0.0 in /opt/conda/envs/tess/lib/python3.8/site-packages (from lightkurve>=2.0.0->stella==0.2.0rc2) (3.1.1)\n",
      "Requirement already satisfied: fbpca>=1.0 in /opt/conda/envs/tess/lib/python3.8/site-packages (from lightkurve>=2.0.0->stella==0.2.0rc2) (1.0)\n",
      "Requirement already satisfied: memoization>=0.3.1 in /opt/conda/envs/tess/lib/python3.8/site-packages (from lightkurve>=2.0.0->stella==0.2.0rc2) (0.4.0)\n",
      "Requirement already satisfied: oktopus>=0.1.2 in /opt/conda/envs/tess/lib/python3.8/site-packages (from lightkurve>=2.0.0->stella==0.2.0rc2) (0.1.2)\n",
      "Requirement already satisfied: pandas>=1.1.4 in /opt/conda/envs/tess/lib/python3.8/site-packages (from lightkurve>=2.0.0->stella==0.2.0rc2) (2.0.3)\n",
      "Requirement already satisfied: patsy>=0.5.0 in /opt/conda/envs/tess/lib/python3.8/site-packages (from lightkurve>=2.0.0->stella==0.2.0rc2) (0.5.3)\n",
      "Requirement already satisfied: requests>=2.22.0 in /opt/conda/envs/tess/lib/python3.8/site-packages (from lightkurve>=2.0.0->stella==0.2.0rc2) (2.31.0)\n",
      "Requirement already satisfied: scikit-learn>=0.24.0 in /opt/conda/envs/tess/lib/python3.8/site-packages (from lightkurve>=2.0.0->stella==0.2.0rc2) (1.3.0)\n",
      "Requirement already satisfied: uncertainties>=3.1.4 in /opt/conda/envs/tess/lib/python3.8/site-packages (from lightkurve>=2.0.0->stella==0.2.0rc2) (3.1.7)\n",
      "Requirement already satisfied: urllib3>=1.23 in /opt/conda/envs/tess/lib/python3.8/site-packages (from lightkurve>=2.0.0->stella==0.2.0rc2) (1.26.16)\n",
      "Requirement already satisfied: pyerfa>=2.0 in /opt/conda/envs/tess/lib/python3.8/site-packages (from astropy->stella==0.2.0rc2) (2.0.0.3)\n",
      "Requirement already satisfied: PyYAML>=3.13 in /opt/conda/envs/tess/lib/python3.8/site-packages (from astropy->stella==0.2.0rc2) (6.0.1)\n",
      "Requirement already satisfied: packaging>=19.0 in /opt/conda/envs/tess/lib/python3.8/site-packages (from astropy->stella==0.2.0rc2) (23.1)\n",
      "Requirement already satisfied: html5lib>=0.999 in /opt/conda/envs/tess/lib/python3.8/site-packages (from astroquery->stella==0.2.0rc2) (1.1)\n",
      "Requirement already satisfied: keyring>=4.0 in /opt/conda/envs/tess/lib/python3.8/site-packages (from astroquery->stella==0.2.0rc2) (23.13.1)\n",
      "Requirement already satisfied: pyvo>=1.1 in /opt/conda/envs/tess/lib/python3.8/site-packages (from astroquery->stella==0.2.0rc2) (1.4.1)\n",
      "Requirement already satisfied: cycler>=0.10 in /opt/conda/envs/tess/lib/python3.8/site-packages (from matplotlib->stella==0.2.0rc2) (0.11.0)\n",
      "Requirement already satisfied: fonttools>=4.22.0 in /opt/conda/envs/tess/lib/python3.8/site-packages (from matplotlib->stella==0.2.0rc2) (4.41.0)\n",
      "Requirement already satisfied: kiwisolver>=1.0.1 in /opt/conda/envs/tess/lib/python3.8/site-packages (from matplotlib->stella==0.2.0rc2) (1.4.4)\n",
      "Requirement already satisfied: pillow>=6.2.0 in /opt/conda/envs/tess/lib/python3.8/site-packages (from matplotlib->stella==0.2.0rc2) (10.0.0)\n",
      "Requirement already satisfied: pyparsing>=2.2.1 in /opt/conda/envs/tess/lib/python3.8/site-packages (from matplotlib->stella==0.2.0rc2) (3.1.0)\n",
      "Requirement already satisfied: python-dateutil>=2.7 in /opt/conda/envs/tess/lib/python3.8/site-packages (from matplotlib->stella==0.2.0rc2) (2.8.2)\n",
      "Requirement already satisfied: absl-py>=1.0.0 in /opt/conda/envs/tess/lib/python3.8/site-packages (from tensorflow>=2.1.0->stella==0.2.0rc2) (1.4.0)\n",
      "Requirement already satisfied: astunparse>=1.6.0 in /opt/conda/envs/tess/lib/python3.8/site-packages (from tensorflow>=2.1.0->stella==0.2.0rc2) (1.6.3)\n",
      "Requirement already satisfied: flatbuffers<2,>=1.12 in /opt/conda/envs/tess/lib/python3.8/site-packages (from tensorflow>=2.1.0->stella==0.2.0rc2) (1.12)\n",
      "Requirement already satisfied: gast<=0.4.0,>=0.2.1 in /opt/conda/envs/tess/lib/python3.8/site-packages (from tensorflow>=2.1.0->stella==0.2.0rc2) (0.4.0)\n",
      "Requirement already satisfied: google-pasta>=0.1.1 in /opt/conda/envs/tess/lib/python3.8/site-packages (from tensorflow>=2.1.0->stella==0.2.0rc2) (0.2.0)\n",
      "Requirement already satisfied: grpcio<2.0,>=1.24.3 in /opt/conda/envs/tess/lib/python3.8/site-packages (from tensorflow>=2.1.0->stella==0.2.0rc2) (1.56.0)\n",
      "Requirement already satisfied: h5py>=2.9.0 in /opt/conda/envs/tess/lib/python3.8/site-packages (from tensorflow>=2.1.0->stella==0.2.0rc2) (3.9.0)\n",
      "Requirement already satisfied: keras<2.10.0,>=2.9.0rc0 in /opt/conda/envs/tess/lib/python3.8/site-packages (from tensorflow>=2.1.0->stella==0.2.0rc2) (2.9.0)\n",
      "Requirement already satisfied: keras-preprocessing>=1.1.1 in /opt/conda/envs/tess/lib/python3.8/site-packages (from tensorflow>=2.1.0->stella==0.2.0rc2) (1.1.2)\n",
      "Requirement already satisfied: libclang>=13.0.0 in /opt/conda/envs/tess/lib/python3.8/site-packages (from tensorflow>=2.1.0->stella==0.2.0rc2) (16.0.6)\n",
      "Requirement already satisfied: opt-einsum>=2.3.2 in /opt/conda/envs/tess/lib/python3.8/site-packages (from tensorflow>=2.1.0->stella==0.2.0rc2) (3.3.0)\n",
      "Requirement already satisfied: protobuf>=3.9.2 in /opt/conda/envs/tess/lib/python3.8/site-packages (from tensorflow>=2.1.0->stella==0.2.0rc2) (3.20.0)\n",
      "Requirement already satisfied: setuptools in /opt/conda/envs/tess/lib/python3.8/site-packages (from tensorflow>=2.1.0->stella==0.2.0rc2) (68.0.0)\n",
      "Requirement already satisfied: six>=1.12.0 in /opt/conda/envs/tess/lib/python3.8/site-packages (from tensorflow>=2.1.0->stella==0.2.0rc2) (1.16.0)\n",
      "Requirement already satisfied: tensorboard<2.10,>=2.9 in /opt/conda/envs/tess/lib/python3.8/site-packages (from tensorflow>=2.1.0->stella==0.2.0rc2) (2.9.0)\n",
      "Requirement already satisfied: tensorflow-io-gcs-filesystem>=0.23.1 in /opt/conda/envs/tess/lib/python3.8/site-packages (from tensorflow>=2.1.0->stella==0.2.0rc2) (0.32.0)\n",
      "Requirement already satisfied: tensorflow-estimator<2.10.0,>=2.9.0rc0 in /opt/conda/envs/tess/lib/python3.8/site-packages (from tensorflow>=2.1.0->stella==0.2.0rc2) (2.9.0)\n",
      "Requirement already satisfied: termcolor>=1.1.0 in /opt/conda/envs/tess/lib/python3.8/site-packages (from tensorflow>=2.1.0->stella==0.2.0rc2) (2.3.0)\n",
      "Requirement already satisfied: typing-extensions>=3.6.6 in /opt/conda/envs/tess/lib/python3.8/site-packages (from tensorflow>=2.1.0->stella==0.2.0rc2) (4.7.1)\n",
      "Requirement already satisfied: wrapt>=1.11.0 in /opt/conda/envs/tess/lib/python3.8/site-packages (from tensorflow>=2.1.0->stella==0.2.0rc2) (1.15.0)\n",
      "Requirement already satisfied: comm>=0.1.1 in /opt/conda/envs/tess/lib/python3.8/site-packages (from ipykernel->stella==0.2.0rc2) (0.1.3)\n",
      "Requirement already satisfied: debugpy>=1.6.5 in /opt/conda/envs/tess/lib/python3.8/site-packages (from ipykernel->stella==0.2.0rc2) (1.6.7)\n",
      "Requirement already satisfied: ipython>=7.23.1 in /opt/conda/envs/tess/lib/python3.8/site-packages (from ipykernel->stella==0.2.0rc2) (8.12.2)\n",
      "Requirement already satisfied: jupyter-client>=6.1.12 in /opt/conda/envs/tess/lib/python3.8/site-packages (from ipykernel->stella==0.2.0rc2) (8.3.0)\n",
      "Requirement already satisfied: jupyter-core!=5.0.*,>=4.12 in /opt/conda/envs/tess/lib/python3.8/site-packages (from ipykernel->stella==0.2.0rc2) (5.3.1)\n",
      "Requirement already satisfied: matplotlib-inline>=0.1 in /opt/conda/envs/tess/lib/python3.8/site-packages (from ipykernel->stella==0.2.0rc2) (0.1.6)\n",
      "Requirement already satisfied: nest-asyncio in /opt/conda/envs/tess/lib/python3.8/site-packages (from ipykernel->stella==0.2.0rc2) (1.5.6)\n",
      "Requirement already satisfied: psutil in /opt/conda/envs/tess/lib/python3.8/site-packages (from ipykernel->stella==0.2.0rc2) (5.9.5)\n",
      "Requirement already satisfied: pyzmq>=20 in /opt/conda/envs/tess/lib/python3.8/site-packages (from ipykernel->stella==0.2.0rc2) (25.1.0)\n",
      "Requirement already satisfied: traitlets>=5.4.0 in /opt/conda/envs/tess/lib/python3.8/site-packages (from ipykernel->stella==0.2.0rc2) (5.9.0)\n",
      "Requirement already satisfied: docutils in /opt/conda/envs/tess/lib/python3.8/site-packages (from nbsphinx->stella==0.2.0rc2) (0.18.1)\n",
      "Requirement already satisfied: jinja2 in /opt/conda/envs/tess/lib/python3.8/site-packages (from nbsphinx->stella==0.2.0rc2) (3.1.2)\n",
      "Requirement already satisfied: nbconvert!=5.4 in /opt/conda/envs/tess/lib/python3.8/site-packages (from nbsphinx->stella==0.2.0rc2) (7.7.1)\n",
      "Requirement already satisfied: nbformat in /opt/conda/envs/tess/lib/python3.8/site-packages (from nbsphinx->stella==0.2.0rc2) (5.9.1)\n",
      "Requirement already satisfied: sphinx>=1.8 in /opt/conda/envs/tess/lib/python3.8/site-packages (from nbsphinx->stella==0.2.0rc2) (6.2.1)\n",
      "Requirement already satisfied: build<0.11.0,>=0.10.0 in /opt/conda/envs/tess/lib/python3.8/site-packages (from poetry->stella==0.2.0rc2) (0.10.0)\n",
      "Requirement already satisfied: cachecontrol[filecache]<0.13.0,>=0.12.9 in /opt/conda/envs/tess/lib/python3.8/site-packages (from poetry->stella==0.2.0rc2) (0.12.14)\n",
      "Requirement already satisfied: cleo<3.0.0,>=2.0.0 in /opt/conda/envs/tess/lib/python3.8/site-packages (from poetry->stella==0.2.0rc2) (2.0.1)\n",
      "Requirement already satisfied: crashtest<0.5.0,>=0.4.1 in /opt/conda/envs/tess/lib/python3.8/site-packages (from poetry->stella==0.2.0rc2) (0.4.1)\n",
      "Requirement already satisfied: dulwich<0.22.0,>=0.21.2 in /opt/conda/envs/tess/lib/python3.8/site-packages (from poetry->stella==0.2.0rc2) (0.21.5)\n",
      "Requirement already satisfied: filelock<4.0.0,>=3.8.0 in /opt/conda/envs/tess/lib/python3.8/site-packages (from poetry->stella==0.2.0rc2) (3.12.2)\n",
      "Requirement already satisfied: importlib-metadata>=4.4 in /opt/conda/envs/tess/lib/python3.8/site-packages (from poetry->stella==0.2.0rc2) (6.8.0)\n",
      "Requirement already satisfied: installer<0.8.0,>=0.7.0 in /opt/conda/envs/tess/lib/python3.8/site-packages (from poetry->stella==0.2.0rc2) (0.7.0)\n",
      "Requirement already satisfied: jsonschema<5.0.0,>=4.10.0 in /opt/conda/envs/tess/lib/python3.8/site-packages (from poetry->stella==0.2.0rc2) (4.17.3)\n",
      "Requirement already satisfied: lockfile<0.13.0,>=0.12.2 in /opt/conda/envs/tess/lib/python3.8/site-packages (from poetry->stella==0.2.0rc2) (0.12.2)\n",
      "Requirement already satisfied: pexpect<5.0.0,>=4.7.0 in /opt/conda/envs/tess/lib/python3.8/site-packages (from poetry->stella==0.2.0rc2) (4.8.0)\n",
      "Requirement already satisfied: pkginfo<2.0.0,>=1.9.4 in /opt/conda/envs/tess/lib/python3.8/site-packages (from poetry->stella==0.2.0rc2) (1.9.6)\n",
      "Requirement already satisfied: platformdirs<4.0.0,>=3.0.0 in /opt/conda/envs/tess/lib/python3.8/site-packages (from poetry->stella==0.2.0rc2) (3.9.1)\n",
      "Requirement already satisfied: poetry-core==1.6.1 in /opt/conda/envs/tess/lib/python3.8/site-packages (from poetry->stella==0.2.0rc2) (1.6.1)\n",
      "Requirement already satisfied: poetry-plugin-export<2.0.0,>=1.4.0 in /opt/conda/envs/tess/lib/python3.8/site-packages (from poetry->stella==0.2.0rc2) (1.4.0)\n",
      "Requirement already satisfied: pyproject-hooks<2.0.0,>=1.0.0 in /opt/conda/envs/tess/lib/python3.8/site-packages (from poetry->stella==0.2.0rc2) (1.0.0)\n",
      "Requirement already satisfied: requests-toolbelt<2,>=0.9.1 in /opt/conda/envs/tess/lib/python3.8/site-packages (from poetry->stella==0.2.0rc2) (1.0.0)\n",
      "Requirement already satisfied: shellingham<2.0,>=1.5 in /opt/conda/envs/tess/lib/python3.8/site-packages (from poetry->stella==0.2.0rc2) (1.5.0.post1)\n",
      "Requirement already satisfied: tomli<3.0.0,>=2.0.1 in /opt/conda/envs/tess/lib/python3.8/site-packages (from poetry->stella==0.2.0rc2) (2.0.1)\n",
      "Requirement already satisfied: tomlkit<1.0.0,>=0.11.4 in /opt/conda/envs/tess/lib/python3.8/site-packages (from poetry->stella==0.2.0rc2) (0.11.8)\n",
      "Requirement already satisfied: trove-classifiers>=2022.5.19 in /opt/conda/envs/tess/lib/python3.8/site-packages (from poetry->stella==0.2.0rc2) (2023.7.6)\n",
      "Requirement already satisfied: virtualenv<21.0.0,>=20.22.0 in /opt/conda/envs/tess/lib/python3.8/site-packages (from poetry->stella==0.2.0rc2) (20.24.0)\n",
      "Requirement already satisfied: iniconfig in /opt/conda/envs/tess/lib/python3.8/site-packages (from pytest->stella==0.2.0rc2) (2.0.0)\n",
      "Requirement already satisfied: pluggy<2.0,>=0.12 in /opt/conda/envs/tess/lib/python3.8/site-packages (from pytest->stella==0.2.0rc2) (1.2.0)\n",
      "Requirement already satisfied: exceptiongroup>=1.0.0rc8 in /opt/conda/envs/tess/lib/python3.8/site-packages (from pytest->stella==0.2.0rc2) (1.1.2)\n",
      "Requirement already satisfied: wheel<1.0,>=0.23.0 in /opt/conda/envs/tess/lib/python3.8/site-packages (from astunparse>=1.6.0->tensorflow>=2.1.0->stella==0.2.0rc2) (0.40.0)\n",
      "Requirement already satisfied: soupsieve>1.2 in /opt/conda/envs/tess/lib/python3.8/site-packages (from beautifulsoup4>=4.6.0->lightkurve>=2.0.0->stella==0.2.0rc2) (2.4.1)\n",
      "Requirement already satisfied: contourpy>=1 in /opt/conda/envs/tess/lib/python3.8/site-packages (from bokeh>=2.0.0->lightkurve>=2.0.0->stella==0.2.0rc2) (1.1.0)\n",
      "Requirement already satisfied: xyzservices>=2021.09.1 in /opt/conda/envs/tess/lib/python3.8/site-packages (from bokeh>=2.0.0->lightkurve>=2.0.0->stella==0.2.0rc2) (2023.7.0)\n",
      "Requirement already satisfied: msgpack>=0.5.2 in /opt/conda/envs/tess/lib/python3.8/site-packages (from cachecontrol[filecache]<0.13.0,>=0.12.9->poetry->stella==0.2.0rc2) (1.0.5)\n",
      "Requirement already satisfied: rapidfuzz<3.0.0,>=2.2.0 in /opt/conda/envs/tess/lib/python3.8/site-packages (from cleo<3.0.0,>=2.0.0->poetry->stella==0.2.0rc2) (2.15.1)\n",
      "Requirement already satisfied: webencodings in /opt/conda/envs/tess/lib/python3.8/site-packages (from html5lib>=0.999->astroquery->stella==0.2.0rc2) (0.5.1)\n",
      "Requirement already satisfied: zipp>=0.5 in /opt/conda/envs/tess/lib/python3.8/site-packages (from importlib-metadata>=4.4->poetry->stella==0.2.0rc2) (3.16.2)\n",
      "Requirement already satisfied: backcall in /opt/conda/envs/tess/lib/python3.8/site-packages (from ipython>=7.23.1->ipykernel->stella==0.2.0rc2) (0.2.0)\n",
      "Requirement already satisfied: decorator in /opt/conda/envs/tess/lib/python3.8/site-packages (from ipython>=7.23.1->ipykernel->stella==0.2.0rc2) (5.1.1)\n",
      "Requirement already satisfied: jedi>=0.16 in /opt/conda/envs/tess/lib/python3.8/site-packages (from ipython>=7.23.1->ipykernel->stella==0.2.0rc2) (0.18.2)\n",
      "Requirement already satisfied: pickleshare in /opt/conda/envs/tess/lib/python3.8/site-packages (from ipython>=7.23.1->ipykernel->stella==0.2.0rc2) (0.7.5)\n",
      "Requirement already satisfied: prompt-toolkit!=3.0.37,<3.1.0,>=3.0.30 in /opt/conda/envs/tess/lib/python3.8/site-packages (from ipython>=7.23.1->ipykernel->stella==0.2.0rc2) (3.0.39)\n",
      "Requirement already satisfied: pygments>=2.4.0 in /opt/conda/envs/tess/lib/python3.8/site-packages (from ipython>=7.23.1->ipykernel->stella==0.2.0rc2) (2.15.1)\n",
      "Requirement already satisfied: stack-data in /opt/conda/envs/tess/lib/python3.8/site-packages (from ipython>=7.23.1->ipykernel->stella==0.2.0rc2) (0.6.2)\n",
      "Requirement already satisfied: MarkupSafe>=2.0 in /opt/conda/envs/tess/lib/python3.8/site-packages (from jinja2->nbsphinx->stella==0.2.0rc2) (2.1.3)\n",
      "Requirement already satisfied: attrs>=17.4.0 in /opt/conda/envs/tess/lib/python3.8/site-packages (from jsonschema<5.0.0,>=4.10.0->poetry->stella==0.2.0rc2) (23.1.0)\n",
      "Requirement already satisfied: importlib-resources>=1.4.0 in /opt/conda/envs/tess/lib/python3.8/site-packages (from jsonschema<5.0.0,>=4.10.0->poetry->stella==0.2.0rc2) (6.0.0)\n",
      "Requirement already satisfied: pkgutil-resolve-name>=1.3.10 in /opt/conda/envs/tess/lib/python3.8/site-packages (from jsonschema<5.0.0,>=4.10.0->poetry->stella==0.2.0rc2) (1.3.10)\n",
      "Requirement already satisfied: pyrsistent!=0.17.0,!=0.17.1,!=0.17.2,>=0.14.0 in /opt/conda/envs/tess/lib/python3.8/site-packages (from jsonschema<5.0.0,>=4.10.0->poetry->stella==0.2.0rc2) (0.19.3)\n",
      "Requirement already satisfied: jaraco.classes in /opt/conda/envs/tess/lib/python3.8/site-packages (from keyring>=4.0->astroquery->stella==0.2.0rc2) (3.3.0)\n",
      "Requirement already satisfied: SecretStorage>=3.2 in /opt/conda/envs/tess/lib/python3.8/site-packages (from keyring>=4.0->astroquery->stella==0.2.0rc2) (3.3.3)\n",
      "Requirement already satisfied: jeepney>=0.4.2 in /opt/conda/envs/tess/lib/python3.8/site-packages (from keyring>=4.0->astroquery->stella==0.2.0rc2) (0.8.0)\n",
      "Requirement already satisfied: bleach!=5.0.0 in /opt/conda/envs/tess/lib/python3.8/site-packages (from nbconvert!=5.4->nbsphinx->stella==0.2.0rc2) (6.0.0)\n",
      "Requirement already satisfied: defusedxml in /opt/conda/envs/tess/lib/python3.8/site-packages (from nbconvert!=5.4->nbsphinx->stella==0.2.0rc2) (0.7.1)\n",
      "Requirement already satisfied: jupyterlab-pygments in /opt/conda/envs/tess/lib/python3.8/site-packages (from nbconvert!=5.4->nbsphinx->stella==0.2.0rc2) (0.2.2)\n",
      "Requirement already satisfied: mistune<4,>=2.0.3 in /opt/conda/envs/tess/lib/python3.8/site-packages (from nbconvert!=5.4->nbsphinx->stella==0.2.0rc2) (3.0.1)\n",
      "Requirement already satisfied: nbclient>=0.5.0 in /opt/conda/envs/tess/lib/python3.8/site-packages (from nbconvert!=5.4->nbsphinx->stella==0.2.0rc2) (0.8.0)\n",
      "Requirement already satisfied: pandocfilters>=1.4.1 in /opt/conda/envs/tess/lib/python3.8/site-packages (from nbconvert!=5.4->nbsphinx->stella==0.2.0rc2) (1.5.0)\n",
      "Requirement already satisfied: tinycss2 in /opt/conda/envs/tess/lib/python3.8/site-packages (from nbconvert!=5.4->nbsphinx->stella==0.2.0rc2) (1.2.1)\n",
      "Requirement already satisfied: fastjsonschema in /opt/conda/envs/tess/lib/python3.8/site-packages (from nbformat->nbsphinx->stella==0.2.0rc2) (2.17.1)\n",
      "Requirement already satisfied: autograd in /opt/conda/envs/tess/lib/python3.8/site-packages (from oktopus>=0.1.2->lightkurve>=2.0.0->stella==0.2.0rc2) (1.6.2)\n",
      "Requirement already satisfied: pytz>=2020.1 in /opt/conda/envs/tess/lib/python3.8/site-packages (from pandas>=1.1.4->lightkurve>=2.0.0->stella==0.2.0rc2) (2023.3)\n",
      "Requirement already satisfied: tzdata>=2022.1 in /opt/conda/envs/tess/lib/python3.8/site-packages (from pandas>=1.1.4->lightkurve>=2.0.0->stella==0.2.0rc2) (2023.3)\n",
      "Requirement already satisfied: ptyprocess>=0.5 in /opt/conda/envs/tess/lib/python3.8/site-packages (from pexpect<5.0.0,>=4.7.0->poetry->stella==0.2.0rc2) (0.7.0)\n",
      "Requirement already satisfied: charset-normalizer<4,>=2 in /opt/conda/envs/tess/lib/python3.8/site-packages (from requests>=2.22.0->lightkurve>=2.0.0->stella==0.2.0rc2) (3.2.0)\n",
      "Requirement already satisfied: idna<4,>=2.5 in /opt/conda/envs/tess/lib/python3.8/site-packages (from requests>=2.22.0->lightkurve>=2.0.0->stella==0.2.0rc2) (3.4)\n",
      "Requirement already satisfied: certifi>=2017.4.17 in /opt/conda/envs/tess/lib/python3.8/site-packages (from requests>=2.22.0->lightkurve>=2.0.0->stella==0.2.0rc2) (2023.5.7)\n",
      "Requirement already satisfied: joblib>=1.1.1 in /opt/conda/envs/tess/lib/python3.8/site-packages (from scikit-learn>=0.24.0->lightkurve>=2.0.0->stella==0.2.0rc2) (1.3.1)\n",
      "Requirement already satisfied: threadpoolctl>=2.0.0 in /opt/conda/envs/tess/lib/python3.8/site-packages (from scikit-learn>=0.24.0->lightkurve>=2.0.0->stella==0.2.0rc2) (3.2.0)\n",
      "Requirement already satisfied: sphinxcontrib-applehelp in /opt/conda/envs/tess/lib/python3.8/site-packages (from sphinx>=1.8->nbsphinx->stella==0.2.0rc2) (1.0.4)\n",
      "Requirement already satisfied: sphinxcontrib-devhelp in /opt/conda/envs/tess/lib/python3.8/site-packages (from sphinx>=1.8->nbsphinx->stella==0.2.0rc2) (1.0.2)\n",
      "Requirement already satisfied: sphinxcontrib-jsmath in /opt/conda/envs/tess/lib/python3.8/site-packages (from sphinx>=1.8->nbsphinx->stella==0.2.0rc2) (1.0.1)\n",
      "Requirement already satisfied: sphinxcontrib-htmlhelp>=2.0.0 in /opt/conda/envs/tess/lib/python3.8/site-packages (from sphinx>=1.8->nbsphinx->stella==0.2.0rc2) (2.0.1)\n",
      "Requirement already satisfied: sphinxcontrib-serializinghtml>=1.1.5 in /opt/conda/envs/tess/lib/python3.8/site-packages (from sphinx>=1.8->nbsphinx->stella==0.2.0rc2) (1.1.5)\n",
      "Requirement already satisfied: sphinxcontrib-qthelp in /opt/conda/envs/tess/lib/python3.8/site-packages (from sphinx>=1.8->nbsphinx->stella==0.2.0rc2) (1.0.3)\n",
      "Requirement already satisfied: snowballstemmer>=2.0 in /opt/conda/envs/tess/lib/python3.8/site-packages (from sphinx>=1.8->nbsphinx->stella==0.2.0rc2) (2.2.0)\n",
      "Requirement already satisfied: babel>=2.9 in /opt/conda/envs/tess/lib/python3.8/site-packages (from sphinx>=1.8->nbsphinx->stella==0.2.0rc2) (2.12.1)\n",
      "Requirement already satisfied: alabaster<0.8,>=0.7 in /opt/conda/envs/tess/lib/python3.8/site-packages (from sphinx>=1.8->nbsphinx->stella==0.2.0rc2) (0.7.13)\n",
      "Requirement already satisfied: imagesize>=1.3 in /opt/conda/envs/tess/lib/python3.8/site-packages (from sphinx>=1.8->nbsphinx->stella==0.2.0rc2) (1.4.1)\n",
      "Requirement already satisfied: google-auth<3,>=1.6.3 in /opt/conda/envs/tess/lib/python3.8/site-packages (from tensorboard<2.10,>=2.9->tensorflow>=2.1.0->stella==0.2.0rc2) (2.22.0)\n",
      "Requirement already satisfied: google-auth-oauthlib<0.5,>=0.4.1 in /opt/conda/envs/tess/lib/python3.8/site-packages (from tensorboard<2.10,>=2.9->tensorflow>=2.1.0->stella==0.2.0rc2) (0.4.6)\n",
      "Requirement already satisfied: markdown>=2.6.8 in /opt/conda/envs/tess/lib/python3.8/site-packages (from tensorboard<2.10,>=2.9->tensorflow>=2.1.0->stella==0.2.0rc2) (3.4.3)\n",
      "Requirement already satisfied: tensorboard-data-server<0.7.0,>=0.6.0 in /opt/conda/envs/tess/lib/python3.8/site-packages (from tensorboard<2.10,>=2.9->tensorflow>=2.1.0->stella==0.2.0rc2) (0.6.1)\n",
      "Requirement already satisfied: tensorboard-plugin-wit>=1.6.0 in /opt/conda/envs/tess/lib/python3.8/site-packages (from tensorboard<2.10,>=2.9->tensorflow>=2.1.0->stella==0.2.0rc2) (1.8.1)\n",
      "Requirement already satisfied: werkzeug>=1.0.1 in /opt/conda/envs/tess/lib/python3.8/site-packages (from tensorboard<2.10,>=2.9->tensorflow>=2.1.0->stella==0.2.0rc2) (2.3.6)\n",
      "Requirement already satisfied: future in /opt/conda/envs/tess/lib/python3.8/site-packages (from uncertainties>=3.1.4->lightkurve>=2.0.0->stella==0.2.0rc2) (0.18.3)\n",
      "Requirement already satisfied: distlib<1,>=0.3.6 in /opt/conda/envs/tess/lib/python3.8/site-packages (from virtualenv<21.0.0,>=20.22.0->poetry->stella==0.2.0rc2) (0.3.7)\n",
      "Requirement already satisfied: cachetools<6.0,>=2.0.0 in /opt/conda/envs/tess/lib/python3.8/site-packages (from google-auth<3,>=1.6.3->tensorboard<2.10,>=2.9->tensorflow>=2.1.0->stella==0.2.0rc2) (5.3.1)\n",
      "Requirement already satisfied: pyasn1-modules>=0.2.1 in /opt/conda/envs/tess/lib/python3.8/site-packages (from google-auth<3,>=1.6.3->tensorboard<2.10,>=2.9->tensorflow>=2.1.0->stella==0.2.0rc2) (0.3.0)\n",
      "Requirement already satisfied: rsa<5,>=3.1.4 in /opt/conda/envs/tess/lib/python3.8/site-packages (from google-auth<3,>=1.6.3->tensorboard<2.10,>=2.9->tensorflow>=2.1.0->stella==0.2.0rc2) (4.9)\n",
      "Requirement already satisfied: requests-oauthlib>=0.7.0 in /opt/conda/envs/tess/lib/python3.8/site-packages (from google-auth-oauthlib<0.5,>=0.4.1->tensorboard<2.10,>=2.9->tensorflow>=2.1.0->stella==0.2.0rc2) (1.3.1)\n",
      "Requirement already satisfied: parso<0.9.0,>=0.8.0 in /opt/conda/envs/tess/lib/python3.8/site-packages (from jedi>=0.16->ipython>=7.23.1->ipykernel->stella==0.2.0rc2) (0.8.3)\n",
      "Requirement already satisfied: wcwidth in /opt/conda/envs/tess/lib/python3.8/site-packages (from prompt-toolkit!=3.0.37,<3.1.0,>=3.0.30->ipython>=7.23.1->ipykernel->stella==0.2.0rc2) (0.2.6)\n",
      "Requirement already satisfied: cryptography>=2.0 in /opt/conda/envs/tess/lib/python3.8/site-packages (from SecretStorage>=3.2->keyring>=4.0->astroquery->stella==0.2.0rc2) (41.0.2)\n",
      "Requirement already satisfied: executing>=1.2.0 in /opt/conda/envs/tess/lib/python3.8/site-packages (from stack-data->ipython>=7.23.1->ipykernel->stella==0.2.0rc2) (1.2.0)\n",
      "Requirement already satisfied: asttokens>=2.1.0 in /opt/conda/envs/tess/lib/python3.8/site-packages (from stack-data->ipython>=7.23.1->ipykernel->stella==0.2.0rc2) (2.2.1)\n",
      "Requirement already satisfied: pure-eval in /opt/conda/envs/tess/lib/python3.8/site-packages (from stack-data->ipython>=7.23.1->ipykernel->stella==0.2.0rc2) (0.2.2)\n",
      "Requirement already satisfied: cffi>=1.12 in /opt/conda/envs/tess/lib/python3.8/site-packages (from cryptography>=2.0->SecretStorage>=3.2->keyring>=4.0->astroquery->stella==0.2.0rc2) (1.15.1)\n",
      "Requirement already satisfied: pyasn1<0.6.0,>=0.4.6 in /opt/conda/envs/tess/lib/python3.8/site-packages (from pyasn1-modules>=0.2.1->google-auth<3,>=1.6.3->tensorboard<2.10,>=2.9->tensorflow>=2.1.0->stella==0.2.0rc2) (0.5.0)\n",
      "Requirement already satisfied: oauthlib>=3.0.0 in /opt/conda/envs/tess/lib/python3.8/site-packages (from requests-oauthlib>=0.7.0->google-auth-oauthlib<0.5,>=0.4.1->tensorboard<2.10,>=2.9->tensorflow>=2.1.0->stella==0.2.0rc2) (3.2.2)\n",
      "Requirement already satisfied: pycparser in /opt/conda/envs/tess/lib/python3.8/site-packages (from cffi>=1.12->cryptography>=2.0->SecretStorage>=3.2->keyring>=4.0->astroquery->stella==0.2.0rc2) (2.21)\n",
      "\n",
      "  Running command git clone --filter=blob:none --quiet https://github.com/afeinstein20/stella /tmp/pip-req-build-d490_k2o\n",
      "\n",
      "\n",
      "Note: you may need to restart the kernel to use updated packages.\n"
     ]
    }
   ],
   "source": [
    "conda run pip install git+https://github.com/afeinstein20/stella"
   ]
  },
  {
   "cell_type": "code",
   "execution_count": 3,
   "id": "48bc71a6-f795-4a85-872e-715c823454ed",
   "metadata": {
    "tags": []
   },
   "outputs": [],
   "source": [
    "import stella"
   ]
  },
  {
   "cell_type": "code",
   "execution_count": 4,
   "id": "bd7a41a1-beb7-4036-b551-db40e65609be",
   "metadata": {
    "tags": []
   },
   "outputs": [],
   "source": [
    "def data_mask(time, predictions):\n",
    "    \"\"\"\n",
    "    approach: if there's a gap of more than 10x the median difference in timestamps.\n",
    "    \n",
    "    Inputs\n",
    "    ------\n",
    "        :time: lightkurve-output timestamps. (array-like)\n",
    "        :predictions: stella-output flare predictions. Same size as :time: (array-like)\n",
    "        \n",
    "    Outputs\n",
    "    -------\n",
    "        :time: lightkurve-output timestamps. (array-like)\n",
    "        :predictions: stella-output flare predictions, now with data gaps set to 0. Same size as :time: (array-like)\n",
    "        \n",
    "    \"\"\"\n",
    "    \n",
    "    # mask the beginning and end. They're effectively \"gaps\" of data on the end.\n",
    "    predictions[:100] = 0.\n",
    "    predictions[-100:] = 0.\n",
    "    \n",
    "    median_diff = np.median(np.diff(time))\n",
    "    \n",
    "    gap_diff = 10 * median_diff\n",
    "    \n",
    "    gap_inds = np.argwhere(np.diff(lc.time.value) > gap_diff.value).flatten()\n",
    "    \n",
    "    # now we want to pad the gap indices by 100 time stamps on either side.\n",
    "    mask_starts = gap_inds - 100\n",
    "    mask_ends = gap_inds + 100\n",
    "    \n",
    "    # iterate through the mask starts and ends and set the predictions in this region to 0.\n",
    "    for mask_start, mask_ends in zip(mask_starts, mask_ends):\n",
    "        predictions[mask_start:mask_ends] = 0.\n",
    "        \n",
    "    return time, predictions \n",
    "    \n",
    "    "
   ]
  },
  {
   "cell_type": "code",
   "execution_count": 5,
   "id": "9b65afd3-8329-4fa6-a44e-99ffabb938e1",
   "metadata": {
    "tags": []
   },
   "outputs": [],
   "source": [
    "# gather a list of TIC (Tess Input Catalog) identification numbers.\n",
    "\n",
    "ticids = ['120461526', '278779899', '139754153', '273418879', '52121469', '188580272', '394015919', '206544316']\n",
    "\n",
    "\n",
    "# for all the selected targets, pull the available lightcurves using the lightkurve package\n",
    "sectors = [1, 2] # only consider the first few sectors\n",
    "lcs = []\n",
    "for name in ticids:\n",
    "    lc = search_lightcurve(target='TIC'+name, mission='TESS', sector=sectors, author='SPOC')\n",
    "    lc = lc.download_all()\n",
    "    lcs.append(lc)"
   ]
  },
  {
   "cell_type": "code",
   "execution_count": 6,
   "id": "e794b70f-780e-4742-ac0f-2a80ebc428e4",
   "metadata": {
    "tags": []
   },
   "outputs": [
    {
     "name": "stdout",
     "output_type": "stream",
     "text": [
      "Reading in training set files.\n"
     ]
    },
    {
     "name": "stderr",
     "output_type": "stream",
     "text": [
      "100%|██████████| 62/62 [00:00<00:00, 342.31it/s]\n"
     ]
    },
    {
     "name": "stdout",
     "output_type": "stream",
     "text": [
      "502 positive classes (flare)\n",
      "1342 negative classes (no flare)\n",
      "37.0% class imbalance\n",
      "\n"
     ]
    }
   ],
   "source": [
    "# load the CNN using `stella`\n",
    "data_dir = './hellouniverse_stella_500/'\n",
    "cnn_file = 'initial_flare_model_small_dataset.h5'\n",
    "ds = stella.FlareDataSet(fn_dir=data_dir,\n",
    "                         catalog=data_dir+'Guenther_2020_flare_catalog.txt')\n",
    "cnn_stella = stella.ConvNN(output_dir=data_dir, ds=ds)"
   ]
  },
  {
   "cell_type": "code",
   "execution_count": null,
   "id": "9bcbcced-c03e-4556-a375-29b24f05bd36",
   "metadata": {
    "tags": []
   },
   "outputs": [
    {
     "name": "stderr",
     "output_type": "stream",
     "text": [
      "  0%|          | 0/1 [00:00<?, ?it/s]"
     ]
    },
    {
     "name": "stdout",
     "output_type": "stream",
     "text": [
      "572/572 [==============================] - 3s 4ms/step\n"
     ]
    },
    {
     "name": "stderr",
     "output_type": "stream",
     "text": [
      "100%|██████████| 1/1 [00:04<00:00,  4.94s/it]\n",
      "  0%|          | 0/1 [00:00<?, ?it/s]"
     ]
    },
    {
     "name": "stdout",
     "output_type": "stream",
     "text": [
      "572/572 [==============================] - 1s 2ms/step\n"
     ]
    },
    {
     "name": "stderr",
     "output_type": "stream",
     "text": [
      "100%|██████████| 1/1 [00:02<00:00,  2.91s/it]\n"
     ]
    }
   ],
   "source": [
    "fig = plt.figure(0, [8, 10])\n",
    "\n",
    "for i, lc in enumerate(lcs):\n",
    "    \n",
    "    # pull out on the first light curve in each set, if more than one exist\n",
    "    if len(lc)>0: lc = lc[0]\n",
    "        \n",
    "    # predict the flare probability light cuvey for the input data using `stella` \n",
    "    # (which applies the necessary pre-processing to the data for input to the CNN)\n",
    "    \n",
    "    cnn_stella.predict(cnn_file, times=lc.time.value, fluxes=lc.flux, errs=lc.flux_err)\n",
    "    \n",
    "    time, predictions_masked = data_mask(lc.time, cnn_stella.predictions[0])\n",
    "    \n",
    "    ax = fig.add_subplot(4,2,i+1)\n",
    "    im = ax.scatter(cnn_stella.predict_time[0], cnn_stella.predict_flux[0], c=predictions_masked, s=1. )\n",
    "    \n",
    "    plt.colorbar(im, ax=ax, label='Probability of Flare')\n",
    "    ax.set_xlabel('Time [BJD-2457000]')\n",
    "    ax.set_ylabel('Normalized Flux')\n",
    "    ax.set_title('TIC {}'.format(lc.targetid));\n",
    "plt.tight_layout()\n",
    "plt.show()"
   ]
  },
  {
   "cell_type": "markdown",
   "id": "36bc779b-3902-47f6-b93b-9a9aa7091c2b",
   "metadata": {},
   "source": [
    "Aside from the last lightcurve, all those low-probability \"flares\" near data gaps are gone!"
   ]
  },
  {
   "cell_type": "markdown",
   "id": "f8a209b4-95e1-4b80-a5c9-a6bfb45cf6a8",
   "metadata": {},
   "source": [
    "# Exercise 4: Why CNNs?"
   ]
  },
  {
   "cell_type": "markdown",
   "id": "500ef29b-bf30-41e5-a464-14ae8b0c62f5",
   "metadata": {},
   "source": [
    "Flares all share a common physical origin. Therefore, we expect flares to have a distinct evolution — that is, they should have a specific shape in the light curve. CNNs can incorporate information from neighboring time stamps in a light curve, so they can capture multiple points of a flare to classify it. In principle, this means that it can \"learn\" the shape of a flare using multiple adjacent data points at once."
   ]
  },
  {
   "cell_type": "code",
   "execution_count": null,
   "id": "d07ab125-5af0-47e4-b598-f711fd9f8a3b",
   "metadata": {},
   "outputs": [],
   "source": []
  }
 ],
 "metadata": {
  "kernelspec": {
   "display_name": "TESS Environment",
   "language": "python",
   "name": "tess"
  },
  "language_info": {
   "codemirror_mode": {
    "name": "ipython",
    "version": 3
   },
   "file_extension": ".py",
   "mimetype": "text/x-python",
   "name": "python",
   "nbconvert_exporter": "python",
   "pygments_lexer": "ipython3",
   "version": "3.8.17"
  }
 },
 "nbformat": 4,
 "nbformat_minor": 5
}
