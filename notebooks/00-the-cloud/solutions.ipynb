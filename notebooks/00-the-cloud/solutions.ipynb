{
 "cells": [
  {
   "cell_type": "code",
   "execution_count": null,
   "id": "b8e0c1e4-6230-4aac-9d85-a8e66ecdc830",
   "metadata": {
    "tags": []
   },
   "outputs": [],
   "source": [
    "from astroquery.mast import Observations"
   ]
  },
  {
   "cell_type": "markdown",
   "id": "04054838",
   "metadata": {},
   "source": [
    "## Exercise 1\n",
    "\n",
    "Using this query method, how many MAST Observations are within 2 arcseconds of Trappist-1?"
   ]
  },
  {
   "cell_type": "code",
   "execution_count": null,
   "id": "b4ada75f",
   "metadata": {
    "tags": []
   },
   "outputs": [],
   "source": [
    "#ANS: \n",
    "# Query MAST for TESS observations of Trappist-1\n",
    "obs = Observations.query_object(\"Trappist-1\", radius=\"2s\")\n",
    "\n",
    "# Print out the amount of observations we have queried\n",
    "print(len(obs))"
   ]
  },
  {
   "cell_type": "markdown",
   "id": "525d242b",
   "metadata": {},
   "source": [
    "## Exercise 2\n",
    "\n",
    "How could you tell if a query returned no Observations?"
   ]
  },
  {
   "cell_type": "markdown",
   "id": "7c0e4203",
   "metadata": {},
   "source": [
    "ANS: \n",
    "\n",
    "The table length would be 0."
   ]
  },
  {
   "cell_type": "markdown",
   "id": "05c9ae1d",
   "metadata": {},
   "source": [
    "<!-- <div class=\"alert-success\">\n",
    "    <b>What are the dimensions of the Full Frame Image?</b>\n",
    "</div> -->"
   ]
  },
  {
   "cell_type": "markdown",
   "id": "ade6ec1e",
   "metadata": {},
   "source": [
    "<!-- ANS:\n",
    "<div class=\"alert-danger\">\n",
    "    <b>2136 pixels by 2078 pixels</b>\n",
    "</div> -->"
   ]
  }
 ],
 "metadata": {
  "kernelspec": {
   "display_name": "Python 3 (ipykernel)",
   "language": "python",
   "name": "python3"
  },
  "language_info": {
   "codemirror_mode": {
    "name": "ipython",
    "version": 3
   },
   "file_extension": ".py",
   "mimetype": "text/x-python",
   "name": "python",
   "nbconvert_exporter": "python",
   "pygments_lexer": "ipython3",
   "version": "3.11.4"
  }
 },
 "nbformat": 4,
 "nbformat_minor": 5
}
