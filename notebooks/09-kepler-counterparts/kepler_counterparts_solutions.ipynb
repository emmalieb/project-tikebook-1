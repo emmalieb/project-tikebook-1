{
 "cells": [
  {
   "cell_type": "markdown",
   "id": "bf02683d",
   "metadata": {},
   "source": [
    "<a id=\"top\"></a>\n",
    "# Long Period TESS Targets with Kepler Counterparts: Solutions\n",
    "***"
   ]
  },
  {
   "cell_type": "markdown",
   "id": "6cff4258",
   "metadata": {},
   "source": [
    "## Imports"
   ]
  },
  {
   "cell_type": "code",
   "execution_count": 1,
   "id": "16bd1f46",
   "metadata": {},
   "outputs": [],
   "source": [
    "%matplotlib inline\n",
    "\n",
    "import matplotlib.pyplot as plt\n",
    "import numpy as np\n",
    "\n",
    "#from astropy.io import fits # JRK CHECK IF NOT USED\n",
    "from astropy.table import Table\n",
    "from astroquery.mast import Observations\n",
    "\n",
    "import lightkurve as lk\n",
    "import astropy.units as u\n",
    "from astroquery.vizier import Vizier\n",
    "from astropy.time import Time"
   ]
  },
  {
   "cell_type": "markdown",
   "id": "9ed659c5",
   "metadata": {},
   "source": [
    "## Exercise 1\n",
    "Go to the [Data page of the NASA Exoplanet Archive](https://exoplanetarchive.ipac.caltech.edu/docs/data.html) and download the TCE table with all columns and all rows. Load it here and confirm that it matches the .csv file included with the tutorial. Then, sort your new table to include only Non-Transiting Phenomena with periods of less than or equal to 180 days. "
   ]
  },
  {
   "cell_type": "code",
   "execution_count": 2,
   "id": "a303b349",
   "metadata": {},
   "outputs": [
    {
     "name": "stderr",
     "output_type": "stream",
     "text": [
      "WARNING: OverflowError converting to FloatType in column boot_fap, possibly resulting in degraded precision. [astropy.io.ascii.fastbasic]\n"
     ]
    },
    {
     "name": "stdout",
     "output_type": "stream",
     "text": [
      "20367\n",
      "20367\n",
      "Non-Transiting Phenomena 6203\n",
      "NTP with periods less than or equal to 180 days 5075\n"
     ]
    }
   ],
   "source": [
    "# First, we need to load the original table from the notebook. Then we will proceed with the solution.\n",
    "tab=Table.read('./q1_q17_dr24_tce_2023.05.29_11.07.52.csv',format='ascii.csv',comment='#') \n",
    "tab\n",
    "# Your filename will vary depending on when you downloaded the .csv file. \n",
    "# Presuming your filename is filename.csv, the correct command to load it as a (new) table could be:\n",
    "# tab2=Table.read('filename.csv',format='ascii.csv',comment='#') \n",
    "# By naming the table \"tab2\" we do not overwrite the previous variable \"tab\"\n",
    "# For the purpose of the solution, we'll use the same file.\n",
    "tab2=Table.read('./q1_q17_dr24_tce_2023.05.29_11.07.52.csv',format='ascii.csv',comment='#') \n",
    "tab2\n",
    "# This is just one way to test of the two tables are equivalent; you may have another method.\n",
    "# tab==tab2 returns an boolean array with \"True\" for every row in the table that are equivalent. \n",
    "# The sum of the array, if all elements are \"True\", will equal the length of the table.\n",
    "print(np.sum(tab==tab2))\n",
    "print(len(tab))\n",
    "# Finally, now we want to narrow down the table to include only Non-Transiting Phenomena with periods less than \n",
    "# or equal to 180 days\n",
    "tab2=tab2[tab2['av_pred_class']=='NTP']\n",
    "print('Non-Transiting Phenomena',len(tab2))\n",
    "tab2=tab2[tab2['tce_period']<=180]\n",
    "print('NTP with periods less than or equal to 180 days',len(tab2))\n",
    "# 5075 TCEs match the criteria."
   ]
  },
  {
   "cell_type": "markdown",
   "id": "4667a330",
   "metadata": {},
   "source": [
    "## Exercise 2\n",
    "One of the target names listed above, '137685450', turns out to be the TESS Input Catalog (TIC) identifier for this target. Search the MAST archive by this object name, with the same search radius of 1 arcsecond, and confirm that the two result tables are identical. Do you need to add 'TIC' and input the number as string like we did above, or can you just use the number alone?"
   ]
  },
  {
   "cell_type": "code",
   "execution_count": 3,
   "id": "a6bfe567",
   "metadata": {},
   "outputs": [
    {
     "name": "stdout",
     "output_type": "stream",
     "text": [
      "89\n",
      "     target_name      \n",
      "----------------------\n",
      "             137685450\n",
      "              2144.049\n",
      "Kepler10-1-2-1-1-1-1-1\n",
      "                    --\n",
      "              TESS FFI\n",
      "              TICA FFI\n",
      "         kplr002581316\n"
     ]
    }
   ],
   "source": [
    "# First, we need to load the observation results table from the notebook. Then we will proceed with the solution.\n",
    "obs_table = Observations.query_object('KIC 2581316',radius=1*u.arcsec)\n",
    "# Search by TIC ID instead\n",
    "obs_table2=Observations.query_object('TIC 137685450',radius=1*u.arcsec)\n",
    "# Note that you DO need to include \"TIC\"; trying to just use 137685450 as either a string or integer input\n",
    "# will result in \"ResolverError: Could not resolve 137685450 to a sky position.\"\n",
    "# We can check that the two tables have the same length and contain the same unique list of target names. \n",
    "print(len(obs_table2))\n",
    "print(np.unique(obs_table2['target_name']))"
   ]
  },
  {
   "cell_type": "markdown",
   "id": "e7b2373d",
   "metadata": {},
   "source": [
    "## Exercise 3"
   ]
  },
  {
   "cell_type": "code",
   "execution_count": 4,
   "id": "3ed07ade",
   "metadata": {},
   "outputs": [],
   "source": [
    "# The table 'tab' was already loaded into this solutions notebook in Exercise 1, but\n",
    "# needs to be narrowed down to our 55 candidates, by reproducing steps already\n",
    "# done in the original notebook.\n",
    "tab=tab['kepid','tce_period','tce_period_err','tce_time0bk','tce_time0bk_err','tce_depth','tce_duration','av_pred_class']\n",
    "tab=tab[tab['av_pred_class']=='PC']\n",
    "tab=tab[tab['tce_period']>180]\n",
    "# This is the array of those that ended up having TESS observations\n",
    "haveTESS=[ True,  True, False, False, False, False,  True, False, False,\n",
    "       False,  True, False,  True,  True, False, False, False, False,\n",
    "        True,  True,  True, False, False, False, False, False, False,\n",
    "       False, False,  True, False, False, False,  True, False, False,\n",
    "        True,  True,  True, False, False,  True, False,  True,  True,\n",
    "        True,  True,  True, False, False,  True, False, False, False,\n",
    "        True,  True, False,  True, False,  True, False,  True,  True,\n",
    "       False, False, False,  True, False,  True,  True, False, False,\n",
    "        True,  True, False, False, False,  True,  True, False,  True,\n",
    "        True,  True, False,  True,  True,  True, False,  True, False,\n",
    "       False, False,  True, False, False,  True,  True, False,  True,\n",
    "        True, False, False, False, False, False,  True,  True, False,\n",
    "        True,  True, False,  True, False,  True, False, False,  True,\n",
    "        True, False, False, False,  True, False]\n",
    "tab=tab[haveTESS]"
   ]
  },
  {
   "cell_type": "code",
   "execution_count": 5,
   "id": "6f94896b",
   "metadata": {},
   "outputs": [],
   "source": [
    "# Create a new column to hold the number of Kepler lightcurves available (of any cadence)\n",
    "n=len(tab)\n",
    "tab.add_column(np.zeros(n,dtype=int),name='nKepler')\n",
    "# Based on the results from Exercise 2 (obs_table2), above, Kepler \n",
    "# lightcurves will be listed with project=Kepler, obs_collection='HLSP',\n",
    "# and target name (at least for those lightcurves with Provenance Name = KEPSEISMIC) \n",
    "# will be e.g. kplr002581316, or 'kplr' plus the id number with leading zeros to make 9 digits total.\n",
    "# We may be missing other high-level science products by limiting by this target name,\n",
    "# so an alternative is to use a cone search with \n",
    "# objectname='KIC '+str(row['kepid']),radius=1*u.arcsec\n",
    "# but that will take longer.\n",
    "# Do not include the t_exptime limits.\n",
    "for i,row in enumerate(tab):\n",
    "    #print('kplr'+f\"{row['kepid']:09d}\")\n",
    "    obs_count = Observations.query_criteria_count(target_name='kplr'+f\"{row['kepid']:09d}\",\n",
    "                                        project='Kepler',obs_collection='HLSP',\n",
    "                                        dataproduct_type='timeseries')\n",
    "    tab['nKepler'][i]=obs_count"
   ]
  },
  {
   "cell_type": "markdown",
   "id": "e2969c5b",
   "metadata": {},
   "source": [
    "## Exercise 4\n",
    "a. For the first target in the table (row 0), find the year, month, and day (in UTC) of all predicted transits from 2018 until today. Use propagation of error (and the formula presented to you above, $\\sqrt{\\sigma_{t_0}^2+(n \\sigma_p)^2}$) to determine the error on the predicted transits. Is the error on the order of minutes, days, or weeks?  \n",
    "b. We chose to only calculate the next 30 predicted transit times. Given the approximate mission dates of Kepler and the limits we placed on the predicted period, show that this is an adequate number of transit times."
   ]
  },
  {
   "cell_type": "code",
   "execution_count": 6,
   "id": "2a7fe315",
   "metadata": {},
   "outputs": [],
   "source": [
    "# At this point, load the final table so we don't have to recreate \n",
    "# the analysis of the timed searching.\n",
    "tab=Table.read('final_table.csv')"
   ]
  },
  {
   "cell_type": "code",
   "execution_count": 7,
   "id": "3d3be2fe",
   "metadata": {
    "tags": []
   },
   "outputs": [
    {
     "name": "stdout",
     "output_type": "stream",
     "text": [
      "[(2018, 1, 2, 23, 13, 55.19998938), (2018, 8, 8, 19, 11, 59.99998391), (2019, 3, 14, 15, 10, 4.80001867), (2019, 10, 18, 11, 8, 9.6000132), (2020, 5, 23, 7, 6, 14.40000773), (2020, 12, 27, 3, 4, 19.20000225), (2021, 8, 1, 23, 2, 23.99999678), (2022, 3, 7, 19, 0, 28.79999131), (2022, 10, 11, 14, 58, 33.59998584), (2023, 5, 17, 10, 56, 38.39998037)]\n",
      "[0.00028531 0.00029555 0.00032434 0.00036734 0.00042021 0.0004797\n",
      " 0.00054364 0.00061063 0.00067977 0.00075048 0.00082233 0.00089507\n",
      " 0.00096848 0.00104243 0.00111681 0.00119154 0.00126656 0.00134181\n",
      " 0.00141727 0.0014929  0.00156867 0.00164457 0.00172058 0.00179668\n",
      " 0.00187287 0.00194913 0.00202546 0.00210184 0.00217828 0.00225476]\n",
      "[0.41084352 0.42559    0.46704411 0.52896357 0.60509803 0.69076312\n",
      " 0.78283629 0.87930684 0.97887553 1.08068634 1.18416112 1.28889916\n",
      " 1.39461587 1.5011045  1.60821171 1.71582167 1.82384539 1.93221347\n",
      " 2.04087106 2.14977427 2.25888756 2.3681819  2.47763334 2.58722192\n",
      " 2.69693094 2.80674627 2.9166559  3.02664956 3.13671841 3.24685481]\n"
     ]
    }
   ],
   "source": [
    "# Solution for part a.\n",
    "row=tab[0]\n",
    "# The first part can be accomplished using the same code as in the loop, and then printing the result with the formatting of \"ymd\" for year month day.\n",
    "# Possible date/times of central transits, offset.\n",
    "t_n=row['tce_time0bk']+row['tce_period']*np.arange(30)\n",
    "# Convert this array of floats to one of DateTime objects, in Barycentric Julian Days\n",
    "t_n=Time(t_n+2454833.0,format='jd')\n",
    "# Only test those from 2018-today's date\n",
    "t_n=t_n[t_n.ymdhms.year>=2018]\n",
    "t_n=t_n[t_n<=Time.now()]\n",
    "# Print the remaining t_n values in a format from which we can easily see year, month, day.\n",
    "print([x.ymdhms for x in t_n])\n",
    "# Propagate error.\n",
    "t_n_err=np.sqrt(row['tce_time0bk_err']**2 + (np.arange(30)*row['tce_period_err'])**2)\n",
    "# Print the errors. Note that the units of all the quantities above were in days, so is our final result.\n",
    "print(t_n_err)\n",
    "# The errors are small. Multiply by the number of minutes in a day, 24*60.\n",
    "print(t_n_err*24.0*60.0)\n",
    "# The errors are on the order of minutes."
   ]
  },
  {
   "cell_type": "code",
   "execution_count": 8,
   "id": "d68fb571-387e-46b8-be78-751ca4814ef8",
   "metadata": {
    "tags": []
   },
   "outputs": [],
   "source": [
    "# Solution for part b.\n",
    "# The original Kepler mission started observing in April 2009. \n",
    "# We have chosen to only study those TCEs with periods of > 180 days, or 6 months. \n",
    "# 30 times 6 months = 180 months, or 15 years.\n",
    "# 15 years after April 2009 would be April 2024.\n",
    "# Most planets will have first transit times *after* April 2009 and \n",
    "# have periods greater than 180 days, so 30 transits will be \n",
    "# more than enough to cover all time periods from the start\n",
    "# of the TESS mission until April 2024. "
   ]
  },
  {
   "cell_type": "markdown",
   "id": "fdb65052",
   "metadata": {},
   "source": [
    "## Exercise 5\n",
    "Choose the next target from our table (KIC 4820550) and download and plot a TESS lightcurve that likely contains one of the predicted transits. Confirm that the lightcurve contains the predicted transit time. Is the transit as clearly visible as our example above? Optional: Make an estimate of the amount of scatter in the light curve and compare it to the predicted transit depth. How does this explain whether or not you can see the transit?"
   ]
  },
  {
   "cell_type": "code",
   "execution_count": 9,
   "id": "640b0c9d",
   "metadata": {},
   "outputs": [
    {
     "name": "stdout",
     "output_type": "stream",
     "text": [
      "INFO: Found cached file ./mastDownload/HLSP/hlsp_qlp_tess_ffi_s0054-0000000121013026_tess_v01_llc/hlsp_qlp_tess_ffi_s0054-0000000121013026_tess_v01_llc.fits with expected size 213120. [astroquery.query]\n"
     ]
    },
    {
     "data": {
      "text/plain": [
       "(0.95, 1.05)"
      ]
     },
     "execution_count": 9,
     "metadata": {},
     "output_type": "execute_result"
    },
    {
     "data": {
      "image/png": "[encoded data removed]",
      "text/plain": [
       "<Figure size 848.5x400 with 1 Axes>"
      ]
     },
     "metadata": {},
     "output_type": "display_data"
    }
   ],
   "source": [
    "# Select the 2nd row of the table.\n",
    "i=1\n",
    "row=tab[i]\n",
    "# From here on out, much of the code is the same.\n",
    "time=Time(row['t_n MJD 1'],format='mjd')\n",
    "obs_table = Observations.query_criteria(target_name=row['TIC'],\n",
    "                                              project='TESS',obs_collection='HLSP',\n",
    "                                              dataproduct_type='timeseries',\n",
    "                                              t_exptime=[20.0,600.0],\n",
    "                                              t_min=[time.value-27,time.value-1],\n",
    "                                              t_max=[time.value+1,time.value+27])\n",
    "# Only one observation is returned.\n",
    "data_prod = Observations.get_product_list(obs_table)\n",
    "data_prod\n",
    "# In this case, only one data product is associated with this observation.\n",
    "manifest=Observations.download_products(data_prod)\n",
    "lc=lk.read(manifest['Local Path'][0])\n",
    "lc.plot()\n",
    "plt.axvline(time.jd-2457000)\n",
    "# The vertical line does indeed show up in our dataset, but the transit itself is not (easily)\n",
    "# visible in the dataset. Be careful not to read too much into \n",
    "# individual dips in the plot; these are unlikely to be transits.\n",
    "plt.ylim([0.95,1.05]) # This helps us focus on the good data, not outliers."
   ]
  },
  {
   "cell_type": "code",
   "execution_count": 10,
   "id": "f34859fc-cbc2-4e71-b6be-06945bd0c926",
   "metadata": {
    "tags": []
   },
   "outputs": [
    {
     "name": "stdout",
     "output_type": "stream",
     "text": [
      "Median relative error:  0.006804158445447683\n",
      "0.002742\n"
     ]
    }
   ],
   "source": [
    "# Optional\n",
    "# One way to estimate the scatter is to examine median relative error, or the ratio of the error to the flux.\n",
    "print('Median relative error: ',np.median(np.median(lc.flux_err/lc.flux)))\n",
    "# Compare that to the predicted depth, which was reported in parts per million\n",
    "print(row['tce_depth']*1e-6)\n",
    "# The median error is larger than the transit depth; TESS is not as sensitive as Kepler \n",
    "# to "
   ]
  },
  {
   "cell_type": "markdown",
   "id": "58aee07e",
   "metadata": {},
   "source": [
    "## Additional Exercises"
   ]
  },
  {
   "cell_type": "markdown",
   "id": "867a935b",
   "metadata": {},
   "source": [
    "### Exercise 6\n",
    "Investigating Planetary Candidates: Use the [NASA Exoplanet Archive](https://exoplanetarchive.ipac.caltech.edu/) to examine the 14 Kepler TCE Planetary Candidates in our most refined table. Which ones have since been confirmed as exoplanets? Which ones remain Planetary Candidates?"
   ]
  },
  {
   "cell_type": "code",
   "execution_count": 11,
   "id": "2760f966",
   "metadata": {
    "tags": []
   },
   "outputs": [],
   "source": [
    "# It's possible to search the NASA Exoplanet Archive by KIC number individually, or\n",
    "# to load a version of our final_table.csv file with the coordinates and/or object names (preceeded by 'KIC')\n",
    "# The results page looks as follows, and shows us that 7 of the 14 KIC objects have confirmed exoplanets."
   ]
  },
  {
   "cell_type": "raw",
   "id": "cfc73f25",
   "metadata": {},
   "source": [
    "Summary\n",
    "Input Location/Object\tRA [decimal degrees]\tDec [decimal degrees]\tNumber of Objects within search radius\tNumber of Time Series/Associated Data within search radius\n",
    "Confirmed Planets\tTOIs\tKOIs\tTCEs\t2MASS\tKepler\tKELT\tUKIRT\tSuperWASP\tCoRoT Astero-Seismology\tCoRoT Exoplanet\tXO\tHATNet\tTrES\tKELT Praesepe\tCluster\tAssociated Literature Data\n",
    "KIC 02581316 \t292.627455\t37.860135\t2\t\t2\t2\t1\t1\t\t\t1\t\t\t\t\t\t\t\t2\n",
    "KIC 04820550 \t286.771443\t39.983806\t\t\t1\t1\t1\t1\t\t\t1\t\t\t\t\t\t\t\t\n",
    "KIC 04638237 \t286.153101\t39.714915\t\t\t1\t1\t1\t1\t\t\t1\t\t\t\t\t\t\t\t\n",
    "KIC 05437945 \t288.474856\t40.651339\t2\t\t2\t2\t1\t1\t\t\t1\t\t\t\t\t\t\t\t2\n",
    "KIC 06762829 \t286.830339\t42.279200\t1\t\t1\t5\t1\t1\t\t\t2\t\t\t\t\t\t\t\t1\n",
    "KIC 08105398 \t294.494843\t43.913625\t1\t\t2\t2\t1\t1\t\t\t1\t\t\t\t\t\t\t\t1\n",
    "KIC 08264402 \t300.945693\t44.164677\t\t\t1\t1\t1\t1\t\t\t1\t\t\t\t\t\t\t\t\n",
    "KIC 09086154 \t290.833902\t45.435652\t\t\t1\t1\t1\t1\t\t\t1\t\t\t\t\t\t\t\t\n",
    "KIC 09002278 \t283.212716\t45.349833\t5\t\t5\t5\t1\t1\t\t\t1\t\t\t\t\t\t\t\t5\n",
    "KIC 09958387 \t294.757704\t46.831102\t\t\t1\t1\t1\t1\t\t\t1\t\t\t\t\t\t\t\t\n",
    "KIC 11284772 \t284.566911\t49.012560\t1\t\t2\t2\t1\t1\t\t\t1\t\t\t\t\t\t\t\t1\n",
    "KIC 11152511 \t298.062306\t48.724919\t\t\t1\t1\t1\t1\t\t\t1\t\t\t\t\t\t\t\t\n",
    "KIC 10917043 \t290.253792\t48.360800\t\t\t1\t1\t1\t1\t\t\t\t\t\t\t\t\t\t\t\n",
    "KIC 10779233 \t283.113785\t48.131371\t1\t\t1\t1\t1\t1\t\t\t1\t\t\t\t\t\t\t\t1"
   ]
  },
  {
   "cell_type": "markdown",
   "id": "64592e02-dab3-4345-ac3e-4f8f1848321f",
   "metadata": {},
   "source": [
    "### Exercise 7\n",
    "\n",
    "Alternative search priorities: In the beginning of this tutorial, we focused on planetary candidates with long periods (> 6 months). Alternatively, you could choose to focus your search on planetary candidates with the largest transit depth, irrespective of period. You could also choose to investigate possible astrophysical false positives instead of planetary candidates. Design your own search procedure to use TESS spectra to learn more about Kepler TCE's. Justify the choices you are making; how are you narrowing down your target list, and why? What criteria will you use to determine which TESS spectra are applicable? Plot at least one spectrum that meets your criteria."
   ]
  },
  {
   "cell_type": "code",
   "execution_count": 12,
   "id": "34500de7-f384-4563-b155-77f06fdb0601",
   "metadata": {
    "tags": []
   },
   "outputs": [],
   "source": [
    "# There are many possible solutions to this exercise,\n",
    "# that would follow the same general procedure as that in the section titled\n",
    "# \"Load full table of Kepler Threshold Crossing Events, or TCEs and filter by period\""
   ]
  }
 ],
 "metadata": {
  "kernelspec": {
   "display_name": "TESS Environment",
   "language": "python",
   "name": "tess"
  },
  "language_info": {
   "codemirror_mode": {
    "name": "ipython",
    "version": 3
   },
   "file_extension": ".py",
   "mimetype": "text/x-python",
   "name": "python",
   "nbconvert_exporter": "python",
   "pygments_lexer": "ipython3",
   "version": "3.8.16"
  }
 },
 "nbformat": 4,
 "nbformat_minor": 5
}
