{
 "cells": [
  {
   "cell_type": "markdown",
   "id": "4d222524",
   "metadata": {},
   "source": [
    "<div class=\"alert-success\">\n",
    "<b> In order to perform data analysis, it is necessary to understand how to parse different columns of a data structure. Use a simple Python code snippet to find how many observations of HD 21749 are time series and how many are FFIs.<b>\n",
    "</div>"
   ]
  },
  {
   "cell_type": "code",
   "execution_count": null,
   "id": "712a9a32",
   "metadata": {},
   "outputs": [],
   "source": [
    "#ANS:\n",
    "ffi = (data_products['dataproduct_type'] == \"image\")\n",
    "print(f\"Number of FFIs: {len(data_products[ffi])}\")\n",
    "\n",
    "timeseries = (data_products['dataproduct_type']=='timeseries')\n",
    "print(f\"Number of Time Series: {len(data_products[timeseries])}\")"
   ]
  },
  {
   "cell_type": "markdown",
   "id": "68698208",
   "metadata": {},
   "source": [
    "<div class=\"alert-success\">\n",
    "<b> What are the units for FLUX and TIME? <b>\n",
    "</div>"
   ]
  },
  {
   "cell_type": "markdown",
   "id": "b9283003",
   "metadata": {},
   "source": [
    "<div class=\"alert-danger\">\n",
    "<b> Flux units are e-/s (electrons per second) and Time units are BJD-2457000 (Barycentric Julian Date). <b>\n",
    "</div>"
   ]
  },
  {
   "cell_type": "markdown",
   "id": "98d9f38e",
   "metadata": {},
   "source": [
    "<div class=\"alert-success\">\n",
    "    <b>How many pixels are in our optimal aperture?</b>\n",
    "</div>"
   ]
  },
  {
   "cell_type": "code",
   "execution_count": null,
   "id": "c347dab0",
   "metadata": {},
   "outputs": [],
   "source": [
    "#ANS:\n",
    "print(np.sum(aperture))"
   ]
  },
  {
   "cell_type": "markdown",
   "id": "3b4057b0",
   "metadata": {},
   "source": [
    "<div class=\"alert-success\">\n",
    "    <b>Plot the difference between the SAP flux and the flux we calculated from the Target Pixel File.</b>\n",
    "</div>"
   ]
  },
  {
   "cell_type": "code",
   "execution_count": null,
   "id": "36a64cd4",
   "metadata": {},
   "outputs": [],
   "source": [
    "#make everyone a float\n",
    "sapflux_float = []\n",
    "for val in sapflux:\n",
    "     sapflux_float.append(float(val))\n",
    "sapflux_float = np.array(sapflux_float)\n",
    "flux_float = []\n",
    "for val in flux:\n",
    "     flux_float.append(float(val))\n",
    "flux_float = np.array(flux_float)\n",
    "#ANS: \n",
    "fig = plt.figure(figsize = (11,4))\n",
    "fig.add_subplot(212)\n",
    "plt.plot(time_lc, sapflux_float-flux_float, \".\", color = \"lime\")\n",
    "plt.ylabel(\"FLUX (e-/s)\")\n",
    "plt.xlabel('TIME  (BJD-2457000)')"
   ]
  },
  {
   "cell_type": "markdown",
   "id": "c1ad3fc9",
   "metadata": {},
   "source": [
    "<div class=\"alert-success\">\n",
    "    <b>How many pixels are in the cutout aperture?</b>\n",
    "</div>"
   ]
  },
  {
   "cell_type": "code",
   "execution_count": null,
   "id": "96bace94",
   "metadata": {},
   "outputs": [],
   "source": [
    "#ANS:\n",
    "print(np.sum(aperture_ffi))"
   ]
  }
 ],
 "metadata": {
  "kernelspec": {
   "display_name": "Python 3 (ipykernel)",
   "language": "python",
   "name": "python3"
  },
  "language_info": {
   "codemirror_mode": {
    "name": "ipython",
    "version": 3
   },
   "file_extension": ".py",
   "mimetype": "text/x-python",
   "name": "python",
   "nbconvert_exporter": "python",
   "pygments_lexer": "ipython3",
   "version": "3.10.9"
  }
 },
 "nbformat": 4,
 "nbformat_minor": 5
}
