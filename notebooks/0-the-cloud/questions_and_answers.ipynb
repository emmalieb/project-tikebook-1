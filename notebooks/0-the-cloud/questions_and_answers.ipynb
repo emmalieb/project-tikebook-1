{
 "cells": [
  {
   "cell_type": "markdown",
   "id": "04054838",
   "metadata": {},
   "source": [
    "<div class=\"alert-success\">\n",
    "    <b>Using this query method, how many TESS observations are within 3 arcseconds of Trappist-1?</b>\n",
    "</div>"
   ]
  },
  {
   "cell_type": "code",
   "execution_count": null,
   "id": "b4ada75f",
   "metadata": {},
   "outputs": [],
   "source": [
    "#ANS: \n",
    "# Query MAST for TESS observations of Fomalhaut \n",
    "obs = Observations.query_object(\"Fomalhaut\", radius=\"3s\")\n",
    "\n",
    "# Print out the amount of observations we have queried\n",
    "print(len(obs))"
   ]
  },
  {
   "cell_type": "markdown",
   "id": "6c9431c7",
   "metadata": {},
   "source": [
    " <div class=\"alert-success\">\n",
    "    <b>Try to query a larger region, does TESS have more observations when the search radius is larger?</b>\n",
    "</div>"
   ]
  },
  {
   "cell_type": "markdown",
   "id": "a8b921b6",
   "metadata": {},
   "source": [
    "ANS: \n",
    "<div class=\"alert-danger\">\n",
    "    Yes, TESS has significantly more observations the larger the search radius is. However, although there are sometimes small errors in the target coordinates, making the search too large is likely to return results that do not match the target.\n",
    "</div>"
   ]
  },
  {
   "cell_type": "markdown",
   "id": "6e44e782",
   "metadata": {},
   "source": [
    " <div class=\"alert-success\">\n",
    "    <b>In what scenarios would query_region be a better choice than query_object?</b>\n",
    "</div>"
   ]
  },
  {
   "cell_type": "markdown",
   "id": "d9e8c5d2",
   "metadata": {},
   "source": [
    "ANS: \n",
    " <div class=\"alert-danger\">\n",
    "    query_region allows you to not specify the object name if you only have or would only like to input the coordinates with a search radius. query_object is just a wrapper function for this which allows you to use an object name if you have one. \n",
    "</div>"
   ]
  },
  {
   "cell_type": "markdown",
   "id": "525d242b",
   "metadata": {},
   "source": [
    "<div class=\"alert-success\">\n",
    "    <b>How could you tell if the query produced no data?</b>\n",
    "</div>"
   ]
  },
  {
   "cell_type": "markdown",
   "id": "7c0e4203",
   "metadata": {},
   "source": [
    "ANS: \n",
    "<div class=\"alert-danger\">\n",
    "    The table length would = 0\n",
    "</div>"
   ]
  },
  {
   "cell_type": "markdown",
   "id": "adfd1f4e",
   "metadata": {},
   "source": [
    "<div class=\"alert-success\">\n",
    "    <b>Briefly describe what parameters each of the three query functions allow you to input and how they differ from one another.</b>\n",
    "</div>"
   ]
  },
  {
   "cell_type": "markdown",
   "id": "19da8cc0",
   "metadata": {},
   "source": [
    "ANS: \n",
    "<div class=\"alert-danger\">\n",
    "    query_object() allows you to input the minimal amount of parameters to retrieve data, i.e. you could only use the target name and it would still retrieve data. You would usually have to parse the results after the initial query in order to get exactly the data you're looking for. query_region() allows you to use the location of the object, again some parsing may have to be done. And query_critera allows you to input several parameters to fine tune exactly what data you would like retrieved, this let's you get exactly the data you want in about 1 line of code. \n",
    "</div>"
   ]
  },
  {
   "cell_type": "markdown",
   "id": "05c9ae1d",
   "metadata": {},
   "source": [
    "<!-- <div class=\"alert-success\">\n",
    "    <b>What are the dimensions of the Full Frame Image?</b>\n",
    "</div> -->"
   ]
  },
  {
   "cell_type": "markdown",
   "id": "ade6ec1e",
   "metadata": {},
   "source": [
    "<!-- ANS:\n",
    "<div class=\"alert-danger\">\n",
    "    <b>2136 pixels by 2078 pixels</b>\n",
    "</div> -->"
   ]
  }
 ],
 "metadata": {
  "kernelspec": {
   "display_name": "Python 3 (ipykernel)",
   "language": "python",
   "name": "python3"
  },
  "language_info": {
   "codemirror_mode": {
    "name": "ipython",
    "version": 3
   },
   "file_extension": ".py",
   "mimetype": "text/x-python",
   "name": "python",
   "nbconvert_exporter": "python",
   "pygments_lexer": "ipython3",
   "version": "3.10.9"
  }
 },
 "nbformat": 4,
 "nbformat_minor": 5
}
